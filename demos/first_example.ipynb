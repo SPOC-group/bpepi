{
 "cells": [
  {
   "cell_type": "code",
   "execution_count": 1,
   "metadata": {},
   "outputs": [],
   "source": [
    "import os\n",
    "import sys\n",
    "\n",
    "sys.path.insert(0, os.path.abspath(os.path.join(os.path.dirname(\"../bpepi/bpepi\"))))\n",
    "sys.path.insert(0, os.path.abspath(os.path.join(os.path.dirname(\"../bpepi\"))))\n",
    "\n",
    "import bpepi\n",
    "import matplotlib.pyplot as plt\n",
    "import seaborn as sns\n",
    "import pandas as pd\n"
   ]
  },
  {
   "cell_type": "code",
   "execution_count": 2,
   "metadata": {},
   "outputs": [],
   "source": [
    "import networkx as nx\n",
    "import numpy as np"
   ]
  },
  {
   "cell_type": "code",
   "execution_count": 131,
   "metadata": {},
   "outputs": [],
   "source": [
    "def simulate_one_detSIR(G, p_inf = 0.01, mask = [\"SI\"]):\n",
    "    N=G.number_of_nodes()\n",
    "    # Generate the sources\n",
    "    status_nodes = []\n",
    "    s0 = []\n",
    "    flag_s=0\n",
    "    p_inf=delta\n",
    "    mask=[1]*Delta\n",
    "    flag_m = 1\n",
    "    if mask == [\"SI\"] : \n",
    "        mask = [1]\n",
    "        flag_m = 0\n",
    "    counter = [mask.copy() for _ in range(N)]\n",
    "    coeff_lam = np.ones(N)\n",
    "    for i in range(N):\n",
    "        if np.random.rand() < p_inf : \n",
    "            s0.append(1)\n",
    "            coeff_lam[i]=counter[i][0]\n",
    "            if flag_m : counter[i].pop(0)\n",
    "            flag_s =1\n",
    "        else : s0.append(0)\n",
    "\n",
    "    if (flag_s==0) : \n",
    "        s0[np.random.randint(0,N)]=1\n",
    "        print(\"No sources... adding a single random source\")\n",
    "    status_nodes.append(np.array(s0))\n",
    "    # Generate the epidemics\n",
    "    st = np.copy(s0)\n",
    "    while ((flag_m==1 and 1 in status_nodes[-1]) or (flag_m==0 and 0 in status_nodes[-1])):\n",
    "        st_minus_1 = np.copy(st)\n",
    "        coeff_minus_1 = coeff_lam.copy()\n",
    "        for i in range(N):\n",
    "            if st[i] == 1 :\n",
    "                if not counter[i]: st[i]=2\n",
    "                else :\n",
    "                    coeff_lam[i]=counter[i][0]\n",
    "                    if flag_m : counter[i].pop(0)\n",
    "            elif st[i] == 0 :\n",
    "                for j in nx.neighbors(G,i) :\n",
    "                    if (st_minus_1[j]==1 and np.random.rand() < G.edges[j,i]['lambda']*coeff_minus_1[j] and st[i]==0): \n",
    "                        st[i]=1\n",
    "                        coeff_lam[i]=counter[i][0]\n",
    "                        if flag_m : counter[i].pop(0)\n",
    "        status_nodes.append(np.copy(st))\n",
    "    return status_nodes"
   ]
  },
  {
   "cell_type": "markdown",
   "metadata": {},
   "source": [
    "### Generate the epidemics"
   ]
  },
  {
   "cell_type": "code",
   "execution_count": 329,
   "metadata": {},
   "outputs": [
    {
     "name": "stdout",
     "output_type": "stream",
     "text": [
      "num of nodes 10000 \n",
      "num of edges 15000 \n",
      "num of connected components 1 \n",
      "39\n"
     ]
    }
   ],
   "source": [
    "N_graph=10000\n",
    "d=3\n",
    "lam = 0.3\n",
    "delta = 0.01\n",
    "Delta=6\n",
    "#p=0.01\n",
    "#G = nx.erdos_renyi_graph(N_graph, p=0.01)\n",
    "G = nx.random_regular_graph(d=3, n=N_graph)\n",
    "#G = nx.balanced_tree(3,5)\n",
    "for (u,v) in G.edges():\n",
    "    G.edges[u,v]['lambda'] = lam\n",
    "print(f\"num of nodes {G.number_of_nodes()} \")\n",
    "print(f\"num of edges {G.number_of_edges()} \")\n",
    "print(f\"num of connected components {nx.number_connected_components(G)} \")\n",
    "\n",
    "sn = np.asarray(simulate_one_detSIR(G, delta, [1]*Delta))\n",
    "print(len(sn))"
   ]
  },
  {
   "cell_type": "code",
   "execution_count": 323,
   "metadata": {},
   "outputs": [
    {
     "data": {
      "text/plain": [
       "2"
      ]
     },
     "execution_count": 323,
     "metadata": {},
     "output_type": "execute_result"
    }
   ],
   "source": [
    "sum(sn[27] == 0)"
   ]
  },
  {
   "cell_type": "code",
   "execution_count": 260,
   "metadata": {},
   "outputs": [
    {
     "data": {
      "text/plain": [
       "0"
      ]
     },
     "execution_count": 260,
     "metadata": {},
     "output_type": "execute_result"
    }
   ],
   "source": [
    "sum(np.array([sum(sn[:, i] == 1) for i in range(N_graph)]) != Delta)"
   ]
  },
  {
   "cell_type": "code",
   "execution_count": 253,
   "metadata": {},
   "outputs": [],
   "source": [
    "N_sim=100\n",
    "all_status = []\n",
    "#G = nx.erdos_renyi_graph(N_graph, p=0.01)\n",
    "for i_s in range(N_sim):\n",
    "    G = nx.random_regular_graph(d=3, n=N_graph)\n",
    "    #G = nx.balanced_tree(3,5)\n",
    "    for (u,v) in G.edges():\n",
    "        G.edges[u,v]['lambda'] = lam\n",
    "    sn = np.asarray(simulate_one_detSIR(G, delta, [1]*Delta))\n",
    "    for t,s in enumerate(sn):\n",
    "        all_status.append({\"t\":t,\n",
    "                           \"indiv\":sum(s==0), \n",
    "                           \"status\":\"S\",\n",
    "                           \"sim\":i_s})\n",
    "        all_status.append({\"t\":t,\n",
    "                           \"indiv\":np.count_nonzero(s == 1), \n",
    "                           \"status\":\"I\",\n",
    "                           \"sim\":i_s})\n",
    "        all_status.append({\"t\":t,\n",
    "                           \"indiv\":np.count_nonzero(s == 2), \n",
    "                           \"status\":\"R\",\n",
    "                           \"sim\":i_s})\n",
    "data=pd.DataFrame(all_status)"
   ]
  },
  {
   "cell_type": "code",
   "execution_count": 257,
   "metadata": {},
   "outputs": [
    {
     "data": {
      "image/png": "[encoded data removed]",
      "text/plain": [
       "<Figure size 864x648 with 1 Axes>"
      ]
     },
     "metadata": {},
     "output_type": "display_data"
    }
   ],
   "source": [
    "fig,ax = plt.subplots(1,1, figsize=(12,9))\n",
    "sns.set_theme(font_scale=2)\n",
    "plt.suptitle(f\"RRG, $N=10000$, $d=3$, $\\\\delta=0.01$, $\\\\lambda=0.2$, $\\\\Delta=4$\")\n",
    "sns.lineplot(data=data, x=\"t\", y=\"indiv\", hue=\"status\", ci=95, ax=ax)\n",
    "ax.set_xlim(0,120)\n",
    "#fig.savefig(f\"simDetSIR_Ave.pdf\")"
   ]
  },
  {
   "cell_type": "markdown",
   "metadata": {},
   "source": [
    "### Run BP"
   ]
  },
  {
   "cell_type": "code",
   "execution_count": 14,
   "metadata": {},
   "outputs": [],
   "source": [
    "from bpepi.sim_on_cluster import generate_contacts\n",
    "T=13\n",
    "lamb_=lam\n",
    "contacts = generate_contacts(G, T, lamb_)"
   ]
  },
  {
   "cell_type": "code",
   "execution_count": 15,
   "metadata": {},
   "outputs": [],
   "source": [
    "from bpepi.fg import FactorGraph\n",
    "fg_ = FactorGraph(N_graph, T, contacts, [], delta, mask = [1]*Delta)"
   ]
  },
  {
   "cell_type": "code",
   "execution_count": 16,
   "metadata": {},
   "outputs": [
    {
     "data": {
      "text/plain": [
       "(15, 7.216449660063518e-16)"
      ]
     },
     "execution_count": 16,
     "metadata": {},
     "output_type": "execute_result"
    }
   ],
   "source": [
    "fg_.update(tol=1e-10)"
   ]
  },
  {
   "cell_type": "code",
   "execution_count": 17,
   "metadata": {},
   "outputs": [],
   "source": [
    "Lambda0 = fg_.Lambda0\n",
    "Lambda1 = fg_.Lambda1"
   ]
  },
  {
   "cell_type": "code",
   "execution_count": 18,
   "metadata": {},
   "outputs": [
    {
     "data": {
      "text/plain": [
       "array([[1.   , 1.   , 0.2  , 0.04 , 0.008, 0.008, 0.008, 0.008, 0.008,\n",
       "        0.008, 0.008, 0.008, 0.008, 0.008, 0.008],\n",
       "       [1.   , 1.   , 1.   , 0.2  , 0.04 , 0.008, 0.008, 0.008, 0.008,\n",
       "        0.008, 0.008, 0.008, 0.008, 0.008, 0.008],\n",
       "       [1.   , 1.   , 1.   , 1.   , 0.2  , 0.04 , 0.008, 0.008, 0.008,\n",
       "        0.008, 0.008, 0.008, 0.008, 0.008, 0.008],\n",
       "       [1.   , 1.   , 1.   , 1.   , 1.   , 0.2  , 0.04 , 0.008, 0.008,\n",
       "        0.008, 0.008, 0.008, 0.008, 0.008, 0.008],\n",
       "       [1.   , 1.   , 1.   , 1.   , 1.   , 1.   , 0.2  , 0.04 , 0.008,\n",
       "        0.008, 0.008, 0.008, 0.008, 0.008, 0.008],\n",
       "       [1.   , 1.   , 1.   , 1.   , 1.   , 1.   , 1.   , 0.2  , 0.04 ,\n",
       "        0.008, 0.008, 0.008, 0.008, 0.008, 0.008],\n",
       "       [1.   , 1.   , 1.   , 1.   , 1.   , 1.   , 1.   , 1.   , 0.2  ,\n",
       "        0.04 , 0.008, 0.008, 0.008, 0.008, 0.008],\n",
       "       [1.   , 1.   , 1.   , 1.   , 1.   , 1.   , 1.   , 1.   , 1.   ,\n",
       "        0.2  , 0.04 , 0.008, 0.008, 0.008, 0.008],\n",
       "       [1.   , 1.   , 1.   , 1.   , 1.   , 1.   , 1.   , 1.   , 1.   ,\n",
       "        1.   , 0.2  , 0.04 , 0.008, 0.008, 0.008],\n",
       "       [1.   , 1.   , 1.   , 1.   , 1.   , 1.   , 1.   , 1.   , 1.   ,\n",
       "        1.   , 1.   , 0.2  , 0.04 , 0.008, 0.008],\n",
       "       [1.   , 1.   , 1.   , 1.   , 1.   , 1.   , 1.   , 1.   , 1.   ,\n",
       "        1.   , 1.   , 1.   , 0.2  , 0.04 , 0.008],\n",
       "       [1.   , 1.   , 1.   , 1.   , 1.   , 1.   , 1.   , 1.   , 1.   ,\n",
       "        1.   , 1.   , 1.   , 1.   , 0.2  , 0.04 ],\n",
       "       [1.   , 1.   , 1.   , 1.   , 1.   , 1.   , 1.   , 1.   , 1.   ,\n",
       "        1.   , 1.   , 1.   , 1.   , 1.   , 0.2  ],\n",
       "       [1.   , 1.   , 1.   , 1.   , 1.   , 1.   , 1.   , 1.   , 1.   ,\n",
       "        1.   , 1.   , 1.   , 1.   , 1.   , 1.   ],\n",
       "       [1.   , 1.   , 1.   , 1.   , 1.   , 1.   , 1.   , 1.   , 1.   ,\n",
       "        1.   , 1.   , 1.   , 1.   , 1.   , 1.   ]])"
      ]
     },
     "execution_count": 18,
     "metadata": {},
     "output_type": "execute_result"
    }
   ],
   "source": [
    "Lambda1.values[0]"
   ]
  },
  {
   "cell_type": "code",
   "execution_count": 19,
   "metadata": {},
   "outputs": [
    {
     "data": {
      "text/plain": [
       "array([[1.   , 0.2  , 0.04 , 0.008, 0.008, 0.008, 0.008, 0.008, 0.008,\n",
       "        0.008, 0.008, 0.008, 0.008, 0.008, 0.008],\n",
       "       [1.   , 1.   , 0.2  , 0.04 , 0.008, 0.008, 0.008, 0.008, 0.008,\n",
       "        0.008, 0.008, 0.008, 0.008, 0.008, 0.008],\n",
       "       [1.   , 1.   , 1.   , 0.2  , 0.04 , 0.008, 0.008, 0.008, 0.008,\n",
       "        0.008, 0.008, 0.008, 0.008, 0.008, 0.008],\n",
       "       [1.   , 1.   , 1.   , 1.   , 0.2  , 0.04 , 0.008, 0.008, 0.008,\n",
       "        0.008, 0.008, 0.008, 0.008, 0.008, 0.008],\n",
       "       [1.   , 1.   , 1.   , 1.   , 1.   , 0.2  , 0.04 , 0.008, 0.008,\n",
       "        0.008, 0.008, 0.008, 0.008, 0.008, 0.008],\n",
       "       [1.   , 1.   , 1.   , 1.   , 1.   , 1.   , 0.2  , 0.04 , 0.008,\n",
       "        0.008, 0.008, 0.008, 0.008, 0.008, 0.008],\n",
       "       [1.   , 1.   , 1.   , 1.   , 1.   , 1.   , 1.   , 0.2  , 0.04 ,\n",
       "        0.008, 0.008, 0.008, 0.008, 0.008, 0.008],\n",
       "       [1.   , 1.   , 1.   , 1.   , 1.   , 1.   , 1.   , 1.   , 0.2  ,\n",
       "        0.04 , 0.008, 0.008, 0.008, 0.008, 0.008],\n",
       "       [1.   , 1.   , 1.   , 1.   , 1.   , 1.   , 1.   , 1.   , 1.   ,\n",
       "        0.2  , 0.04 , 0.008, 0.008, 0.008, 0.008],\n",
       "       [1.   , 1.   , 1.   , 1.   , 1.   , 1.   , 1.   , 1.   , 1.   ,\n",
       "        1.   , 0.2  , 0.04 , 0.008, 0.008, 0.008],\n",
       "       [1.   , 1.   , 1.   , 1.   , 1.   , 1.   , 1.   , 1.   , 1.   ,\n",
       "        1.   , 1.   , 0.2  , 0.04 , 0.008, 0.008],\n",
       "       [1.   , 1.   , 1.   , 1.   , 1.   , 1.   , 1.   , 1.   , 1.   ,\n",
       "        1.   , 1.   , 1.   , 0.2  , 0.04 , 0.04 ],\n",
       "       [1.   , 1.   , 1.   , 1.   , 1.   , 1.   , 1.   , 1.   , 1.   ,\n",
       "        1.   , 1.   , 1.   , 1.   , 0.2  , 0.2  ],\n",
       "       [1.   , 1.   , 1.   , 1.   , 1.   , 1.   , 1.   , 1.   , 1.   ,\n",
       "        1.   , 1.   , 1.   , 1.   , 1.   , 1.   ],\n",
       "       [1.   , 1.   , 1.   , 1.   , 1.   , 1.   , 1.   , 1.   , 1.   ,\n",
       "        1.   , 1.   , 1.   , 1.   , 1.   , 1.   ]])"
      ]
     },
     "execution_count": 19,
     "metadata": {},
     "output_type": "execute_result"
    }
   ],
   "source": [
    "Lambda0.values[0]"
   ]
  },
  {
   "cell_type": "code",
   "execution_count": 39,
   "metadata": {},
   "outputs": [],
   "source": [
    "Mask0 = np.array([ np.asarray(([1]*(tj+1) + mask + [0]*(Tp2-len(mask)-tj-1) )[:Tp2]) for tj in range(Tp2) ])\n",
    "Mask1 = np.array([ np.asarray(([1]*(tj+2) + mask + [0]*(Tp2-len(mask)-tj-2) )[:Tp2]) for tj in range(Tp2) ])"
   ]
  },
  {
   "cell_type": "code",
   "execution_count": 42,
   "metadata": {},
   "outputs": [
    {
     "data": {
      "text/plain": [
       "array([[1, 1, 1, 1, 0, 0, 0, 0, 0, 0],\n",
       "       [1, 1, 1, 1, 1, 0, 0, 0, 0, 0],\n",
       "       [1, 1, 1, 1, 1, 1, 0, 0, 0, 0],\n",
       "       [1, 1, 1, 1, 1, 1, 1, 0, 0, 0],\n",
       "       [1, 1, 1, 1, 1, 1, 1, 1, 0, 0],\n",
       "       [1, 1, 1, 1, 1, 1, 1, 1, 1, 0],\n",
       "       [1, 1, 1, 1, 1, 1, 1, 1, 1, 1],\n",
       "       [1, 1, 1, 1, 1, 1, 1, 1, 1, 1],\n",
       "       [1, 1, 1, 1, 1, 1, 1, 1, 1, 1],\n",
       "       [1, 1, 1, 1, 1, 1, 1, 1, 1, 1]])"
      ]
     },
     "execution_count": 42,
     "metadata": {},
     "output_type": "execute_result"
    }
   ],
   "source": [
    "Mask1"
   ]
  },
  {
   "cell_type": "code",
   "execution_count": 13,
   "metadata": {},
   "outputs": [],
   "source": [
    "B = fg_.marginals()"
   ]
  },
  {
   "cell_type": "code",
   "execution_count": 14,
   "metadata": {},
   "outputs": [
    {
     "data": {
      "text/plain": [
       "array([0.005     , 0.00298202, 0.00356401, 0.00425618, 0.00507788,\n",
       "       0.00605124, 0.00720125, 0.00855569, 0.01014485, 0.94716688])"
      ]
     },
     "execution_count": 14,
     "metadata": {},
     "output_type": "execute_result"
    }
   ],
   "source": [
    "B[0]"
   ]
  },
  {
   "cell_type": "code",
   "execution_count": null,
   "metadata": {},
   "outputs": [],
   "source": []
  },
  {
   "cell_type": "code",
   "execution_count": null,
   "metadata": {},
   "outputs": [],
   "source": []
  },
  {
   "cell_type": "code",
   "execution_count": null,
   "metadata": {},
   "outputs": [],
   "source": []
  }
 ],
 "metadata": {
  "interpreter": {
   "hash": "2e62f657b8d8ca5305e9e864a899c987e9ce197630d8440f981c5ae49f158ad2"
  },
  "kernelspec": {
   "display_name": "Python 3",
   "language": "python",
   "name": "python3"
  },
  "language_info": {
   "codemirror_mode": {
    "name": "ipython",
    "version": 3
   },
   "file_extension": ".py",
   "mimetype": "text/x-python",
   "name": "python",
   "nbconvert_exporter": "python",
   "pygments_lexer": "ipython3",
   "version": "3.7.3"
  }
 },
 "nbformat": 4,
 "nbformat_minor": 2
}
