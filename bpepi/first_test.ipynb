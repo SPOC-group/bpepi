{
 "cells": [
  {
   "cell_type": "code",
   "execution_count": 545,
   "metadata": {},
   "outputs": [],
   "source": [
    "import pandas as pd\n",
    "import ndlib\n",
    "import random\n",
    "import numpy as np\n",
    "import networkx as nx\n",
    "import matplotlib.pyplot as plt\n",
    "\n",
    "\n",
    "#from .context import bpepi\n",
    "from fg import FactorGraph\n",
    "from st import SparseTensor\n",
    "\n",
    "import sys\n",
    "# insert at 1, 0 is the script path (or '' in REPL)\n",
    "#sys.path.append( './bpepi/')"
   ]
  },
  {
   "cell_type": "markdown",
   "metadata": {},
   "source": [
    "# Generate Epidemics"
   ]
  },
  {
   "cell_type": "code",
   "execution_count": 549,
   "metadata": {},
   "outputs": [],
   "source": [
    "import networkx as nx\n",
    "N = 1000\n",
    "d = 4\n",
    "seed = 0 # setting seed everywhere for reproducibility TBD\n",
    "T = 13 # generate contact from 0 to T-1\n",
    "lamb = 0.3\n",
    "percentage_infected = 0.03\n",
    "n_sim = 1\n",
    "perc_obs = 0"
   ]
  },
  {
   "cell_type": "code",
   "execution_count": 550,
   "metadata": {},
   "outputs": [],
   "source": [
    "import ndlib.models.epidemics as ep\n",
    "import ndlib.models.ModelConfig as mc\n",
    "\n",
    "def generate_one_conf(g, lamb=0.05, T=10, percentage_infected=0.01):\n",
    "    model = ep.SIModel(g)\n",
    "    cfg = mc.Configuration()\n",
    "    cfg.add_model_parameter('beta', lamb) # infection rate\n",
    "    #cfg.add_model_parameter('gamma', 0.0) # recovery rate\n",
    "    cfg.add_model_parameter(\"percentage_infected\", percentage_infected)\n",
    "    model.set_initial_status(cfg)\n",
    "    iterations = model.iteration_bunch(T, node_status=True)\n",
    "    status_nodes = np.zeros((T,N))\n",
    "    for t in range(0,T):\n",
    "        for node_i in iterations[t][\"status\"].keys():\n",
    "            status_nodes[t:T, node_i] = iterations[t][\"status\"][node_i]\n",
    "    return np.array(status_nodes)\n",
    "    \n",
    "def generate_contacts(G, t_limit, lambda_, p_edge=1, seed=1):\n",
    "    contacts = []\n",
    "    random.seed(seed)\n",
    "    for t in range(t_limit):\n",
    "        for e in G.edges():\n",
    "            if random.random() <= p_edge:\n",
    "                contacts.append((e[0], e[1], t, lambda_))\n",
    "                contacts.append((e[1], e[0], t, lambda_))\n",
    "    #contacts = np.array(contacts, dtype=[(\"t\",\"f8\"), (\"i\",\"f8\"), (\"j\",\"f8\"), (\"lam\", \"f8\")])\n",
    "    #contacts.sort(axis=0, order=(\"tù\",\"i\",\"j\"))\n",
    "    return contacts\n",
    "\n",
    "def generate_obs(conf, frac_obs=0.):\n",
    "    \"\"\"[summary]\n",
    "\n",
    "    Args:\n",
    "        conf ([type]): [description]\n",
    "        frac_obs (float, optional): [description]. Defaults to 0.1.\n",
    "\n",
    "    Returns:\n",
    "        [type]: [description]\n",
    "    \"\"\"\n",
    "    n_obs = []\n",
    "    obs_sim = []\n",
    "    t_obs_sim = []\n",
    "    N = conf.shape[1]\n",
    "    T = conf.shape[0]\n",
    "    for i in range(N):\n",
    "        if np.random.random() < frac_obs: \n",
    "            t_inf = np.nonzero(conf[:, i] == 1)[0]\n",
    "            if len(t_inf) == 0:\n",
    "                obs_temp = (i, 0, T-1)\n",
    "                obs_sim.append(obs_temp)\n",
    "            else:\n",
    "                obs_temp = (i, 1, t_inf[0])\n",
    "                obs_sim.append((obs_temp))\n",
    "                if t_inf[0] > 0:\n",
    "                    obs_temp = (i, 0, t_inf[0] - 1)\n",
    "                    obs_sim.append((obs_temp))\n",
    "    obs_sim = sorted(obs_sim, key=lambda tup: tup[2])\n",
    "    return obs_sim"
   ]
  },
  {
   "cell_type": "code",
   "execution_count": 551,
   "metadata": {},
   "outputs": [],
   "source": [
    "g = nx.random_regular_graph(n=N, d=d)\n",
    "status_nodes = generate_one_conf(g, lamb=lamb, T = T+1, percentage_infected=percentage_infected)\n",
    "contacts = generate_contacts(g, T, lambda_=lamb, seed=seed)\n",
    "list_obs = generate_obs(status_nodes, frac_obs=perc_obs)              \n",
    "list_obs_all = generate_obs(status_nodes, frac_obs=1)"
   ]
  },
  {
   "cell_type": "code",
   "execution_count": 552,
   "metadata": {},
   "outputs": [
    {
     "data": {
      "text/plain": [
       "14"
      ]
     },
     "execution_count": 552,
     "metadata": {},
     "output_type": "execute_result"
    }
   ],
   "source": [
    "len(status_nodes)"
   ]
  },
  {
   "cell_type": "markdown",
   "metadata": {},
   "source": [
    "## Generate the factor Graph"
   ]
  },
  {
   "cell_type": "markdown",
   "metadata": {},
   "source": [
    "Parameters of the SIR model used for inference"
   ]
  },
  {
   "cell_type": "code",
   "execution_count": 553,
   "metadata": {},
   "outputs": [],
   "source": [
    "pseed = percentage_infected #probability to have sources"
   ]
  },
  {
   "cell_type": "markdown",
   "metadata": {},
   "source": [
    "### Dummy observations for computing marginals\n",
    "We want to computer the marginal probabilities of each node to be S, I or R at time t=0 and t=3.\n",
    "\n",
    "We add dummy observations to the observations list.\n",
    "\n",
    "We force each node the have these times in the factor graph."
   ]
  },
  {
   "cell_type": "markdown",
   "metadata": {},
   "source": [
    "#### factor graph"
   ]
  },
  {
   "cell_type": "code",
   "execution_count": 554,
   "metadata": {},
   "outputs": [],
   "source": [
    "#f_rnd = FactorGraph(\n",
    "#    N=N,\n",
    "#    T=T,\n",
    "#    contacts=contacts,\n",
    "#    obs=[],\n",
    "#    delta=pseed\n",
    "#)\n",
    "f = FactorGraph(\n",
    "    N=N,\n",
    "    T=T,\n",
    "    contacts=contacts,\n",
    "    obs=list_obs,\n",
    "    delta=pseed\n",
    ")\n",
    "#f_inf = FactorGraph(\n",
    "#    N=N,\n",
    "#    T=T,\n",
    "#    contacts=contacts,\n",
    "#    obs=list_obs_all,\n",
    "#    delta=pseed\n",
    "#)\n",
    "\n",
    "#sim_and_fill(f_rnd, data_obs, data_obs_it, list_obs, ti_list_obs, n_iter, tol, print_it, status_nodes, T, \"rnd\", M, S, iter_space, sim, flag_sources, flag_obs)\n",
    "#sim_and_fill(f_informed, data_obs, data_obs_it, list_obs, ti_list_obs, n_iter, tol, print_it, status_nodes, T, \"inf\", M, S, iter_space, sim, flag_sources, flag_obs)\n",
    "#print(\n",
    "#    f\"\\r S: {i_S+1}/{len(sources_table)} - M: {i_M+1}/{len(obs_table)} - sim: {sim+1}/{n_sim} - time = {time.time()-t2:.2f} s - total time = {time.time()-t1:.0f} s\"\n",
    "#)\n",
    "#t2 = time.time()"
   ]
  },
  {
   "cell_type": "code",
   "execution_count": 555,
   "metadata": {},
   "outputs": [
    {
     "data": {
      "text/plain": [
       "1000.0"
      ]
     },
     "execution_count": 555,
     "metadata": {},
     "output_type": "execute_result"
    }
   ],
   "source": [
    "sum(status_nodes[13])"
   ]
  },
  {
   "cell_type": "markdown",
   "metadata": {},
   "source": [
    "# Iterate the BP equations"
   ]
  },
  {
   "cell_type": "code",
   "execution_count": 556,
   "metadata": {},
   "outputs": [
    {
     "data": {
      "text/plain": [
       "3.469446951953614e-17"
      ]
     },
     "execution_count": 556,
     "metadata": {},
     "output_type": "execute_result"
    }
   ],
   "source": [
    "for _ in range(25):\n",
    "    f.iterate()\n",
    "f.iterate()"
   ]
  },
  {
   "cell_type": "code",
   "execution_count": 557,
   "metadata": {},
   "outputs": [
    {
     "data": {
      "text/plain": [
       "8.840288501232862e-10"
      ]
     },
     "execution_count": 557,
     "metadata": {},
     "output_type": "execute_result"
    }
   ],
   "source": [
    "f.loglikelihood()"
   ]
  },
  {
   "cell_type": "code",
   "execution_count": 479,
   "metadata": {},
   "outputs": [
    {
     "data": {
      "text/plain": [
       "4.466912950640278e-17"
      ]
     },
     "execution_count": 479,
     "metadata": {},
     "output_type": "execute_result"
    }
   ],
   "source": [
    "for _ in range(5): f.pop_dyn_RRG(c=d)\n",
    "f.pop_dyn_RRG(c=d)"
   ]
  },
  {
   "cell_type": "code",
   "execution_count": 482,
   "metadata": {},
   "outputs": [
    {
     "data": {
      "text/plain": [
       "0.06666666666666667"
      ]
     },
     "execution_count": 482,
     "metadata": {},
     "output_type": "execute_result"
    }
   ],
   "source": [
    "1/15"
   ]
  },
  {
   "cell_type": "code",
   "execution_count": 454,
   "metadata": {},
   "outputs": [
    {
     "data": {
      "text/plain": [
       "array([0., 1., 1., 1., 1., 1., 1., 1., 1., 1., 1., 1., 1.])"
      ]
     },
     "execution_count": 454,
     "metadata": {},
     "output_type": "execute_result"
    }
   ],
   "source": [
    "status_nodes[:,53]"
   ]
  },
  {
   "cell_type": "code",
   "execution_count": 558,
   "metadata": {},
   "outputs": [
    {
     "data": {
      "text/plain": [
       "0.0008400800167564374"
      ]
     },
     "execution_count": 558,
     "metadata": {},
     "output_type": "execute_result"
    }
   ],
   "source": [
    "sum(f.messages.values[0][-1])"
   ]
  },
  {
   "cell_type": "code",
   "execution_count": 467,
   "metadata": {},
   "outputs": [
    {
     "data": {
      "text/plain": [
       "array([8.00777301e-06, 1.14396757e-05, 1.63423939e-05, 2.33462770e-05,\n",
       "       3.33518243e-05, 4.76454633e-05, 6.80649475e-05, 9.72356393e-05,\n",
       "       1.38908056e-04, 1.98440080e-04, 2.83485829e-04, 4.04979756e-04,\n",
       "       5.78542508e-04, 5.78542508e-04])"
      ]
     },
     "execution_count": 467,
     "metadata": {},
     "output_type": "execute_result"
    }
   ],
   "source": [
    "#pop_dyn_mess= f.messages.values[0]\n",
    "pop_dyn_mess[-1]"
   ]
  },
  {
   "cell_type": "code",
   "execution_count": 493,
   "metadata": {},
   "outputs": [
    {
     "data": {
      "text/plain": [
       "0.020611233199400003"
      ]
     },
     "execution_count": 493,
     "metadata": {},
     "output_type": "execute_result"
    }
   ],
   "source": [
    "(1-percentage_infected)/(T+2)*(1-0.7*eta1)"
   ]
  },
  {
   "cell_type": "code",
   "execution_count": 560,
   "metadata": {},
   "outputs": [
    {
     "data": {
      "text/plain": [
       "array([0.02061123, 0.00173033, 0.00173033, 0.00173033, 0.00173033,\n",
       "       0.00173033, 0.00173033, 0.00173033, 0.00173033, 0.00173033,\n",
       "       0.00173033, 0.00173033, 0.00173033, 0.00173033, 0.00173033])"
      ]
     },
     "execution_count": 560,
     "metadata": {},
     "output_type": "execute_result"
    }
   ],
   "source": [
    "f.messages.values[0][1]"
   ]
  },
  {
   "cell_type": "code",
   "execution_count": 501,
   "metadata": {},
   "outputs": [
    {
     "data": {
      "text/plain": [
       "(4,)"
      ]
     },
     "execution_count": 501,
     "metadata": {},
     "output_type": "execute_result"
    }
   ],
   "source": [
    "np.array([0,0,0,0]).shape"
   ]
  },
  {
   "cell_type": "code",
   "execution_count": 499,
   "metadata": {},
   "outputs": [
    {
     "data": {
      "text/plain": [
       "(15,)"
      ]
     },
     "execution_count": 499,
     "metadata": {},
     "output_type": "execute_result"
    }
   ],
   "source": [
    "marg.shape"
   ]
  },
  {
   "cell_type": "code",
   "execution_count": 498,
   "metadata": {},
   "outputs": [
    {
     "data": {
      "text/plain": [
       "array([[4.00000000e-06, 4.12224664e-05, 2.90261872e-05, 2.04288708e-05,\n",
       "        1.43032995e-05, 9.85356258e-06, 6.54024930e-06, 4.04566406e-06,\n",
       "        2.23520304e-06, 1.05905253e-06, 4.20856121e-07, 1.41400364e-07,\n",
       "        4.15736258e-08, 1.11714710e-08, 3.77637193e-09],\n",
       "       [4.12224664e-05, 2.99405278e-06, 3.58749813e-05, 2.52491087e-05,\n",
       "        1.76781951e-05, 1.21785328e-05, 8.08343580e-06, 5.00024758e-06,\n",
       "        2.76260422e-06, 1.30893835e-06, 5.20158068e-07, 1.74764097e-07,\n",
       "        5.13830160e-08, 1.38074047e-08, 4.66741537e-09],\n",
       "       [2.90261872e-05, 3.58749813e-05, 7.00049064e-06, 5.51546998e-05,\n",
       "        3.86166321e-05, 2.66030508e-05, 1.76576322e-05, 1.09226491e-05,\n",
       "        6.03469248e-06, 2.85927327e-06, 1.13624455e-06, 3.81758478e-07,\n",
       "        1.12242173e-07, 3.01611938e-08, 1.01956032e-08],\n",
       "       [2.04288708e-05, 2.52491087e-05, 5.51546998e-05, 1.55308016e-05,\n",
       "        8.21691986e-05, 5.66064734e-05, 3.75722430e-05, 2.32414189e-05,\n",
       "        1.28407325e-05, 6.08401562e-06, 2.41772259e-06, 8.12312894e-07,\n",
       "        2.38831014e-07, 6.41775573e-08, 2.16943969e-08],\n",
       "       [1.43032995e-05, 1.76781951e-05, 3.86166321e-05, 8.21691986e-05,\n",
       "        3.17680073e-05, 1.15655452e-04, 7.67656858e-05, 4.74856786e-05,\n",
       "        2.62355281e-05, 1.24305496e-05, 4.93976717e-06, 1.65967617e-06,\n",
       "        4.87967315e-07, 1.31124303e-07, 4.43248824e-08],\n",
       "       [9.85356258e-06, 1.21785328e-05, 2.66030508e-05, 5.66064734e-05,\n",
       "        1.15655452e-04, 5.74504715e-05, 1.47475849e-04, 9.12255353e-05,\n",
       "        5.04015141e-05, 2.38805378e-05, 9.48986974e-06, 3.18843178e-06,\n",
       "        9.37442211e-07, 2.51905103e-07, 8.51532767e-08],\n",
       "       [6.54024930e-06, 8.08343580e-06, 1.76576322e-05, 3.75722430e-05,\n",
       "        7.67656858e-05, 1.47475849e-04, 8.66714195e-05, 1.60069850e-04,\n",
       "        8.84375492e-05, 4.19022380e-05, 1.66515002e-05, 5.59461552e-06,\n",
       "        1.64489288e-06, 4.42007952e-07, 1.49415097e-07],\n",
       "       [4.04566406e-06, 5.00024758e-06, 1.09226491e-05, 2.32414189e-05,\n",
       "        4.74856786e-05, 9.12255353e-05, 1.60069850e-04, 1.01336337e-04,\n",
       "        1.36610256e-04, 6.47267537e-05, 2.57217181e-05, 8.64205153e-06,\n",
       "        2.54088042e-06, 6.82773549e-07, 2.30802807e-07],\n",
       "       [2.23520304e-06, 2.76260422e-06, 6.03469248e-06, 1.28407325e-05,\n",
       "        2.62355281e-05, 5.04015141e-05, 8.84375492e-05, 1.36610256e-04,\n",
       "        8.47309267e-05, 8.45520541e-05, 3.36000799e-05, 1.12890446e-05,\n",
       "        3.31913231e-06, 8.91901769e-07, 3.01495909e-07],\n",
       "       [1.05905253e-06, 1.30893835e-06, 2.85927327e-06, 6.08401562e-06,\n",
       "        1.24305496e-05, 2.38805378e-05, 4.19022380e-05, 6.47267537e-05,\n",
       "        8.45520541e-05, 4.74090627e-05, 3.59047558e-05, 1.20633757e-05,\n",
       "        3.54679617e-06, 9.53078542e-07, 3.22175929e-07],\n",
       "       [4.20856121e-07, 5.20158068e-07, 1.13624455e-06, 2.41772259e-06,\n",
       "        4.93976717e-06, 9.48986974e-06, 1.66515002e-05, 2.57217181e-05,\n",
       "        3.36000799e-05, 3.59047558e-05, 1.73355570e-05, 1.04209912e-05,\n",
       "        3.06391284e-06, 8.23320383e-07, 2.78312854e-07],\n",
       "       [1.41400364e-07, 1.74764097e-07, 3.81758478e-07, 8.12312894e-07,\n",
       "        1.65967617e-06, 3.18843178e-06, 5.59461552e-06, 8.64205153e-06,\n",
       "        1.12890446e-05, 1.20633757e-05, 1.04209912e-05, 4.30192711e-06,\n",
       "        2.18042418e-06, 5.85913428e-07, 1.98060490e-07],\n",
       "       [4.15736258e-08, 5.13830160e-08, 1.12242173e-07, 2.38831014e-07,\n",
       "        4.87967315e-07, 9.37442211e-07, 1.64489288e-06, 2.54088042e-06,\n",
       "        3.31913231e-06, 3.54679617e-06, 3.06391284e-06, 2.18042418e-06,\n",
       "        7.90794850e-07, 3.58868883e-07, 1.21311005e-07],\n",
       "       [1.11714710e-08, 1.38074047e-08, 3.01611938e-08, 6.41775573e-08,\n",
       "        1.31124303e-07, 2.51905103e-07, 4.42007952e-07, 6.82773549e-07,\n",
       "        8.91901769e-07, 9.53078542e-07, 8.23320383e-07, 5.85913428e-07,\n",
       "        3.58868883e-07, 1.19088263e-07, 6.72519258e-08],\n",
       "       [3.77637193e-09, 4.66741537e-09, 1.01956032e-08, 2.16943969e-08,\n",
       "        4.43248824e-08, 8.51532767e-08, 1.49415097e-07, 2.30802807e-07,\n",
       "        3.01495909e-07, 3.22175929e-07, 2.78312854e-07, 1.98060490e-07,\n",
       "        1.21311005e-07, 6.72519258e-08, 3.79787346e-08]])"
      ]
     },
     "execution_count": 498,
     "metadata": {},
     "output_type": "execute_result"
    }
   ],
   "source": [
    "f.messages.values[0]*np.transpose(f.messages.values[1])"
   ]
  },
  {
   "cell_type": "code",
   "execution_count": 561,
   "metadata": {},
   "outputs": [],
   "source": [
    "marg = np.sum(f.messages.values[0]*np.transpose(f.messages.values[1]), axis=0)*(T+2)*(T+2)"
   ]
  },
  {
   "cell_type": "code",
   "execution_count": 562,
   "metadata": {},
   "outputs": [
    {
     "data": {
      "text/plain": [
       "1000.0"
      ]
     },
     "execution_count": 562,
     "metadata": {},
     "output_type": "execute_result"
    }
   ],
   "source": [
    "sum(status_nodes[12])"
   ]
  },
  {
   "cell_type": "code",
   "execution_count": 563,
   "metadata": {},
   "outputs": [
    {
     "data": {
      "text/plain": [
       "2.5"
      ]
     },
     "execution_count": 563,
     "metadata": {},
     "output_type": "execute_result"
    }
   ],
   "source": [
    "0.05*50"
   ]
  },
  {
   "cell_type": "code",
   "execution_count": 564,
   "metadata": {},
   "outputs": [
    {
     "data": {
      "text/plain": [
       "0.9999999999999997"
      ]
     },
     "execution_count": 564,
     "metadata": {},
     "output_type": "execute_result"
    }
   ],
   "source": [
    "sum(marg)"
   ]
  },
  {
   "cell_type": "code",
   "execution_count": 565,
   "metadata": {},
   "outputs": [
    {
     "data": {
      "text/plain": [
       "[<matplotlib.lines.Line2D at 0x7f9a8b6c4a60>]"
      ]
     },
     "execution_count": 565,
     "metadata": {},
     "output_type": "execute_result"
    },
    {
     "data": {
      "image/png": "[encoded data removed]",
      "text/plain": [
       "<Figure size 432x288 with 1 Axes>"
      ]
     },
     "metadata": {
      "needs_background": "light"
     },
     "output_type": "display_data"
    }
   ],
   "source": [
    "plt.plot(marg)\n",
    "#plt.plot(range(0,10),2.5**(np.range(0,10)))"
   ]
  },
  {
   "cell_type": "code",
   "execution_count": 66,
   "metadata": {},
   "outputs": [
    {
     "name": "stdout",
     "output_type": "stream",
     "text": [
      "173 ns ± 0.502 ns per loop (mean ± std. dev. of 7 runs, 10,000,000 loops each)\n"
     ]
    },
    {
     "ename": "KeyboardInterrupt",
     "evalue": "",
     "output_type": "error",
     "traceback": [
      "\u001b[0;31m---------------------------------------------------------------------------\u001b[0m",
      "\u001b[0;31mKeyboardInterrupt\u001b[0m                         Traceback (most recent call last)",
      "\u001b[1;32m/Users/ghio/Desktop/bpepi/bpepi/first_test.ipynb Cell 16'\u001b[0m in \u001b[0;36m<cell line: 13>\u001b[0;34m()\u001b[0m\n\u001b[1;32m     <a href='vscode-notebook-cell:/Users/ghio/Desktop/bpepi/bpepi/first_test.ipynb#ch0000032?line=15'>16</a>\u001b[0m inc_lambda0 \u001b[39m=\u001b[39m f\u001b[39m.\u001b[39mLambda0\u001b[39m.\u001b[39mget_neigh_i(i)\n\u001b[1;32m     <a href='vscode-notebook-cell:/Users/ghio/Desktop/bpepi/bpepi/first_test.ipynb#ch0000032?line=16'>17</a>\u001b[0m inc_lambda1 \u001b[39m=\u001b[39m f\u001b[39m.\u001b[39mLambda1\u001b[39m.\u001b[39mget_neigh_i(i)\n\u001b[0;32m---> <a href='vscode-notebook-cell:/Users/ghio/Desktop/bpepi/bpepi/first_test.ipynb#ch0000032?line=17'>18</a>\u001b[0m get_ipython()\u001b[39m.\u001b[39;49mrun_line_magic(\u001b[39m'\u001b[39;49m\u001b[39mtimeit\u001b[39;49m\u001b[39m'\u001b[39;49m, \u001b[39m'\u001b[39;49m\u001b[39mif (r_flag): j_tab = range(len(out_indices)) #shuffle order in which outoing messages are updated for each node.\u001b[39;49m\u001b[39m'\u001b[39;49m)\n\u001b[1;32m     <a href='vscode-notebook-cell:/Users/ghio/Desktop/bpepi/bpepi/first_test.ipynb#ch0000032?line=18'>19</a>\u001b[0m \u001b[39m#np.random.shuffle(order_edges)\u001b[39;00m\n\u001b[1;32m     <a href='vscode-notebook-cell:/Users/ghio/Desktop/bpepi/bpepi/first_test.ipynb#ch0000032?line=19'>20</a>\u001b[0m \u001b[39mfor\u001b[39;00m j \u001b[39min\u001b[39;00m j_tab: \n",
      "File \u001b[0;32m~/opt/anaconda3/envs/Epi38/lib/python3.8/site-packages/IPython/core/interactiveshell.py:2294\u001b[0m, in \u001b[0;36mInteractiveShell.run_line_magic\u001b[0;34m(self, magic_name, line, _stack_depth)\u001b[0m\n\u001b[1;32m   <a href='file:///Users/ghio/opt/anaconda3/envs/Epi38/lib/python3.8/site-packages/IPython/core/interactiveshell.py?line=2291'>2292</a>\u001b[0m     kwargs[\u001b[39m'\u001b[39m\u001b[39mlocal_ns\u001b[39m\u001b[39m'\u001b[39m] \u001b[39m=\u001b[39m \u001b[39mself\u001b[39m\u001b[39m.\u001b[39mget_local_scope(stack_depth)\n\u001b[1;32m   <a href='file:///Users/ghio/opt/anaconda3/envs/Epi38/lib/python3.8/site-packages/IPython/core/interactiveshell.py?line=2292'>2293</a>\u001b[0m \u001b[39mwith\u001b[39;00m \u001b[39mself\u001b[39m\u001b[39m.\u001b[39mbuiltin_trap:\n\u001b[0;32m-> <a href='file:///Users/ghio/opt/anaconda3/envs/Epi38/lib/python3.8/site-packages/IPython/core/interactiveshell.py?line=2293'>2294</a>\u001b[0m     result \u001b[39m=\u001b[39m fn(\u001b[39m*\u001b[39;49margs, \u001b[39m*\u001b[39;49m\u001b[39m*\u001b[39;49mkwargs)\n\u001b[1;32m   <a href='file:///Users/ghio/opt/anaconda3/envs/Epi38/lib/python3.8/site-packages/IPython/core/interactiveshell.py?line=2294'>2295</a>\u001b[0m \u001b[39mreturn\u001b[39;00m result\n",
      "File \u001b[0;32m~/opt/anaconda3/envs/Epi38/lib/python3.8/site-packages/IPython/core/magics/execution.py:1166\u001b[0m, in \u001b[0;36mExecutionMagics.timeit\u001b[0;34m(self, line, cell, local_ns)\u001b[0m\n\u001b[1;32m   <a href='file:///Users/ghio/opt/anaconda3/envs/Epi38/lib/python3.8/site-packages/IPython/core/magics/execution.py?line=1162'>1163</a>\u001b[0m         \u001b[39mif\u001b[39;00m time_number \u001b[39m>\u001b[39m\u001b[39m=\u001b[39m \u001b[39m0.2\u001b[39m:\n\u001b[1;32m   <a href='file:///Users/ghio/opt/anaconda3/envs/Epi38/lib/python3.8/site-packages/IPython/core/magics/execution.py?line=1163'>1164</a>\u001b[0m             \u001b[39mbreak\u001b[39;00m\n\u001b[0;32m-> <a href='file:///Users/ghio/opt/anaconda3/envs/Epi38/lib/python3.8/site-packages/IPython/core/magics/execution.py?line=1165'>1166</a>\u001b[0m all_runs \u001b[39m=\u001b[39m timer\u001b[39m.\u001b[39;49mrepeat(repeat, number)\n\u001b[1;32m   <a href='file:///Users/ghio/opt/anaconda3/envs/Epi38/lib/python3.8/site-packages/IPython/core/magics/execution.py?line=1166'>1167</a>\u001b[0m best \u001b[39m=\u001b[39m \u001b[39mmin\u001b[39m(all_runs) \u001b[39m/\u001b[39m number\n\u001b[1;32m   <a href='file:///Users/ghio/opt/anaconda3/envs/Epi38/lib/python3.8/site-packages/IPython/core/magics/execution.py?line=1167'>1168</a>\u001b[0m worst \u001b[39m=\u001b[39m \u001b[39mmax\u001b[39m(all_runs) \u001b[39m/\u001b[39m number\n",
      "File \u001b[0;32m~/opt/anaconda3/envs/Epi38/lib/python3.8/timeit.py:205\u001b[0m, in \u001b[0;36mTimer.repeat\u001b[0;34m(self, repeat, number)\u001b[0m\n\u001b[1;32m    <a href='file:///Users/ghio/opt/anaconda3/envs/Epi38/lib/python3.8/timeit.py?line=202'>203</a>\u001b[0m r \u001b[39m=\u001b[39m []\n\u001b[1;32m    <a href='file:///Users/ghio/opt/anaconda3/envs/Epi38/lib/python3.8/timeit.py?line=203'>204</a>\u001b[0m \u001b[39mfor\u001b[39;00m i \u001b[39min\u001b[39;00m \u001b[39mrange\u001b[39m(repeat):\n\u001b[0;32m--> <a href='file:///Users/ghio/opt/anaconda3/envs/Epi38/lib/python3.8/timeit.py?line=204'>205</a>\u001b[0m     t \u001b[39m=\u001b[39m \u001b[39mself\u001b[39;49m\u001b[39m.\u001b[39;49mtimeit(number)\n\u001b[1;32m    <a href='file:///Users/ghio/opt/anaconda3/envs/Epi38/lib/python3.8/timeit.py?line=205'>206</a>\u001b[0m     r\u001b[39m.\u001b[39mappend(t)\n\u001b[1;32m    <a href='file:///Users/ghio/opt/anaconda3/envs/Epi38/lib/python3.8/timeit.py?line=206'>207</a>\u001b[0m \u001b[39mreturn\u001b[39;00m r\n",
      "File \u001b[0;32m~/opt/anaconda3/envs/Epi38/lib/python3.8/site-packages/IPython/core/magics/execution.py:156\u001b[0m, in \u001b[0;36mTimer.timeit\u001b[0;34m(self, number)\u001b[0m\n\u001b[1;32m    <a href='file:///Users/ghio/opt/anaconda3/envs/Epi38/lib/python3.8/site-packages/IPython/core/magics/execution.py?line=153'>154</a>\u001b[0m gc\u001b[39m.\u001b[39mdisable()\n\u001b[1;32m    <a href='file:///Users/ghio/opt/anaconda3/envs/Epi38/lib/python3.8/site-packages/IPython/core/magics/execution.py?line=154'>155</a>\u001b[0m \u001b[39mtry\u001b[39;00m:\n\u001b[0;32m--> <a href='file:///Users/ghio/opt/anaconda3/envs/Epi38/lib/python3.8/site-packages/IPython/core/magics/execution.py?line=155'>156</a>\u001b[0m     timing \u001b[39m=\u001b[39m \u001b[39mself\u001b[39;49m\u001b[39m.\u001b[39;49minner(it, \u001b[39mself\u001b[39;49m\u001b[39m.\u001b[39;49mtimer)\n\u001b[1;32m    <a href='file:///Users/ghio/opt/anaconda3/envs/Epi38/lib/python3.8/site-packages/IPython/core/magics/execution.py?line=156'>157</a>\u001b[0m \u001b[39mfinally\u001b[39;00m:\n\u001b[1;32m    <a href='file:///Users/ghio/opt/anaconda3/envs/Epi38/lib/python3.8/site-packages/IPython/core/magics/execution.py?line=157'>158</a>\u001b[0m     \u001b[39mif\u001b[39;00m gcold:\n",
      "File \u001b[0;32m<magic-timeit>:1\u001b[0m, in \u001b[0;36minner\u001b[0;34m(_it, _timer)\u001b[0m\n",
      "\u001b[0;31mKeyboardInterrupt\u001b[0m: "
     ]
    }
   ],
   "source": [
    "r_flag=1\n",
    "T=f.time\n",
    "N=f.size\n",
    "i_tab = range(N)\n",
    "d_tab =f.messages.degree\n",
    "old_msgs = SparseTensor(Tensor_to_copy=f.messages, Which=1)\n",
    "if(all(x == d_tab[0] for x in d_tab)):  \n",
    "    r_flag=0\n",
    "    j_tab = range(d_tab[0])\n",
    "r_flag=1\n",
    "#old_values = f.messages.values\n",
    "#np.random.shuffle(order_nodes) #shuffle order in which nodes are updated.\n",
    "for i in i_tab:\n",
    "    inc_indices, out_indices = old_msgs.get_all_indices(i) #inc_indices, out_indices = f.messages.get_all_indices(i) \n",
    "    inc_msgs = old_msgs.get_neigh_i(i) #inc_msgs = f.messages.get_neigh_i(i)\n",
    "    inc_lambda0 = f.Lambda0.get_neigh_i(i)\n",
    "    inc_lambda1 = f.Lambda1.get_neigh_i(i)\n",
    "    %timeit if (r_flag): j_tab = range(len(out_indices)) #shuffle order in which outoing messages are updated for each node.\n",
    "    #np.random.shuffle(order_edges)\n",
    "    for j in j_tab: \n",
    "        idx = out_indices[j]\n",
    "        inc_msgs_j = np.delete(inc_msgs, j, axis=0)\n",
    "        inc_lambda0_j = np.delete(inc_lambda0, j, axis=0)\n",
    "        inc_lambda1_j = np.delete(inc_lambda1, j, axis=0)\n",
    "        gamma0_ki_j = np.reshape(np.prod(np.sum(inc_lambda0_j*inc_msgs_j,axis=1),axis=0),(1,T+2))\n",
    "        gamma1_ki_j = np.reshape(np.prod(np.sum(inc_lambda1_j*inc_msgs_j,axis=1),axis=0),(1,T+2))\n",
    "        f.messages.values[idx] = np.transpose(((1-f.delta)*np.reshape(f.observations[i],(1,T+2))*(inc_lambda1[j]*gamma1_ki_j - inc_lambda0[j]*gamma0_ki_j)))\n",
    "        f.messages.values[idx][0] = f.delta*f.observations[i][0]*np.prod(np.sum(inc_msgs_j[:,:,0],axis=1),axis=0)\n",
    "        f.messages.values[idx][T+1] = np.transpose((1-f.delta)*f.observations[i][T+1]*inc_lambda1[j][:,T+1]*gamma1_ki_j[0][T+1])\n",
    "        norm = f.messages.values[idx].sum() #normalize the messages\n",
    "        f.messages.values[idx] = f.messages.values[idx]/norm\n",
    "\n",
    "difference = np.abs(old_msgs.values - f.messages.values).max()"
   ]
  },
  {
   "cell_type": "code",
   "execution_count": 40,
   "metadata": {},
   "outputs": [
    {
     "name": "stdout",
     "output_type": "stream",
     "text": [
      "23.3 ms ± 1.57 ms per loop (mean ± std. dev. of 7 runs, 10 loops each)\n"
     ]
    }
   ],
   "source": [
    "%timeit f.iterate()"
   ]
  },
  {
   "cell_type": "code",
   "execution_count": 41,
   "metadata": {},
   "outputs": [
    {
     "data": {
      "text/plain": [
       "3.7414515929867775e-14"
      ]
     },
     "execution_count": 41,
     "metadata": {},
     "output_type": "execute_result"
    }
   ],
   "source": [
    "f.iterate()"
   ]
  },
  {
   "cell_type": "code",
   "execution_count": 341,
   "metadata": {},
   "outputs": [
    {
     "data": {
      "text/plain": [
       "[<matplotlib.lines.Line2D at 0x7f9412746b20>]"
      ]
     },
     "execution_count": 341,
     "metadata": {},
     "output_type": "execute_result"
    },
    {
     "data": {
      "image/png": "[encoded data removed]",
      "text/plain": [
       "<Figure size 432x288 with 1 Axes>"
      ]
     },
     "metadata": {
      "needs_background": "light"
     },
     "output_type": "display_data"
    }
   ],
   "source": [
    "x=np.array([10,20,30,40])\n",
    "y = np.array([199,213,232,262])\n",
    "plt.xscale(\"log\")\n",
    "plt.yscale(\"log\")\n",
    "plt.plot(x,y-191)"
   ]
  },
  {
   "cell_type": "code",
   "execution_count": 281,
   "metadata": {},
   "outputs": [
    {
     "name": "stdout",
     "output_type": "stream",
     "text": [
      "CPU times: user 226 ms, sys: 2.22 ms, total: 228 ms\n",
      "Wall time: 227 ms\n"
     ]
    },
    {
     "data": {
      "text/plain": [
       "4.671635115499617e-06"
      ]
     },
     "execution_count": 281,
     "metadata": {},
     "output_type": "execute_result"
    }
   ],
   "source": [
    "%time f.iterate()\n",
    "\n",
    "\n",
    "\n"
   ]
  },
  {
   "cell_type": "code",
   "execution_count": 47,
   "metadata": {},
   "outputs": [],
   "source": [
    "marg2 = f.marginals()"
   ]
  },
  {
   "cell_type": "code",
   "execution_count": 60,
   "metadata": {},
   "outputs": [
    {
     "data": {
      "text/plain": [
       "[(17, 0, 1), (17, 1, 2), (4, 0, 5)]"
      ]
     },
     "execution_count": 60,
     "metadata": {},
     "output_type": "execute_result"
    }
   ],
   "source": [
    "list_obs"
   ]
  },
  {
   "cell_type": "code",
   "execution_count": 63,
   "metadata": {},
   "outputs": [
    {
     "data": {
      "text/plain": [
       "array([0., 1., 0., 0., 0., 0., 0.])"
      ]
     },
     "execution_count": 63,
     "metadata": {},
     "output_type": "execute_result"
    }
   ],
   "source": [
    "marg[18]"
   ]
  },
  {
   "cell_type": "code",
   "execution_count": 54,
   "metadata": {},
   "outputs": [
    {
     "data": {
      "text/plain": [
       "1.0"
      ]
     },
     "execution_count": 54,
     "metadata": {},
     "output_type": "execute_result"
    }
   ],
   "source": [
    "marg2.max()"
   ]
  },
  {
   "cell_type": "code",
   "execution_count": 49,
   "metadata": {},
   "outputs": [
    {
     "data": {
      "text/plain": [
       "array([1.05331442e-01, 1.03258080e-01, 8.80581453e-02, 0.00000000e+00,\n",
       "       4.48648467e-02, 0.00000000e+00, 1.17290901e-01, 1.06029962e-01,\n",
       "       7.56343988e-03, 1.11619608e-01, 1.30028651e-01, 7.80647145e-03,\n",
       "       1.03599220e-01, 1.01816643e-01, 0.00000000e+00, 1.89286381e-02,\n",
       "       1.99627952e-04, 4.75530197e-02, 5.34503790e-02, 0.00000000e+00,\n",
       "       3.79798185e-02, 1.12265473e-01, 9.51318049e-02, 0.00000000e+00,\n",
       "       3.90957876e-02, 5.80995858e-02, 0.00000000e+00, 2.73140129e-02,\n",
       "       1.11381498e-01, 4.20501819e-02, 1.46937923e-01, 9.53230869e-02,\n",
       "       0.00000000e+00, 7.95775377e-02, 8.68142524e-02, 0.00000000e+00,\n",
       "       1.41159081e-01, 6.03261868e-02, 9.37743528e-02, 9.35471800e-02,\n",
       "       1.14849633e-01, 1.15754393e-01, 1.42421015e-01, 9.81064284e-02,\n",
       "       9.22939492e-02, 7.50811142e-02, 4.79268467e-02, 1.31717242e-01,\n",
       "       0.00000000e+00, 1.30183385e-01, 9.53408655e-02, 9.59115118e-02,\n",
       "       4.59985365e-02, 1.32071672e-01, 9.97759457e-02, 5.80314248e-02,\n",
       "       9.97742303e-02, 1.11010086e-01, 0.00000000e+00, 1.40229335e-01,\n",
       "       8.69311555e-02, 1.02266250e-01, 4.11858799e-02, 1.31395617e-01,\n",
       "       2.05650435e-01, 3.52077920e-02, 1.06607465e-01, 7.17721662e-02,\n",
       "       2.73773898e-02, 1.25635816e-01, 4.62055291e-01, 1.03273184e-01,\n",
       "       1.02803688e-01, 2.33998435e-01, 6.91172443e-02, 7.69475263e-02,\n",
       "       6.79466783e-02, 7.08596362e-03, 8.75054117e-02, 3.21950337e-01,\n",
       "       9.41251559e-02, 4.75210555e-02, 9.70045816e-02, 9.39176932e-02,\n",
       "       1.06205095e-01, 1.00206864e-01, 1.93407247e-01, 2.10386194e-01,\n",
       "       1.31736715e-01, 0.00000000e+00, 4.00863394e-02, 6.94371409e-02,\n",
       "       3.41235994e-01, 0.00000000e+00, 9.94886931e-02, 1.15893332e-01,\n",
       "       8.04010614e-02, 5.35976203e-02, 0.00000000e+00, 0.00000000e+00,\n",
       "       5.15891561e-02, 7.90952964e-02, 1.06185352e-01, 4.60602860e-02,\n",
       "       9.83949201e-02, 5.65660889e-02, 1.56383507e-01, 1.41922131e-01,\n",
       "       0.00000000e+00, 8.89559444e-02, 1.24502855e-01, 1.05255671e-01,\n",
       "       1.10558234e-01, 1.64735780e-01, 1.03335000e-01, 9.91663101e-02,\n",
       "       2.67551030e-01, 0.00000000e+00, 8.64966750e-02, 2.25498016e-02,\n",
       "       1.54587854e-01, 4.62648481e-02, 3.27736411e-02, 1.41256619e-01,\n",
       "       0.00000000e+00, 1.02046615e-01, 9.61209733e-02, 1.00602876e-01,\n",
       "       9.85647148e-02, 0.00000000e+00, 9.33346609e-02, 8.32394031e-02,\n",
       "       1.79255310e-02, 1.08863571e-02, 1.35635990e-01, 8.35012407e-02,\n",
       "       1.00000000e+00, 1.12860029e-01, 7.90230311e-03, 7.54871780e-02,\n",
       "       1.00000000e+00, 1.16666344e-01, 1.09743638e-01, 1.92227512e-02,\n",
       "       5.47054651e-02, 1.11446143e-02, 8.00148012e-02, 1.00811777e-01,\n",
       "       1.06627443e-01, 2.65889721e-02, 5.97008356e-02, 2.62309304e-01,\n",
       "       7.63242861e-02, 1.11314534e-01, 5.95096581e-02, 0.00000000e+00,\n",
       "       2.22661907e-01, 9.10707070e-02, 1.06242720e-01, 1.40845741e-01,\n",
       "       6.39017718e-02, 5.99324929e-02, 8.09894293e-02, 8.82454368e-02,\n",
       "       5.33259184e-02, 6.01783137e-02, 1.22362881e-01, 1.00000000e+00,\n",
       "       9.15416060e-02, 4.84684605e-02, 5.42333017e-02, 9.49950468e-02,\n",
       "       0.00000000e+00, 1.08514087e-01, 8.69429090e-02, 0.00000000e+00,\n",
       "       8.97955853e-02, 1.27907042e-01, 0.00000000e+00, 9.33094491e-02,\n",
       "       8.58649828e-02, 1.47936276e-01, 1.06277716e-01, 7.75938873e-02,\n",
       "       1.03303588e-01, 1.32591813e-01, 1.05396603e-01, 3.47818310e-01,\n",
       "       0.00000000e+00, 2.36728759e-02, 7.91558478e-03, 1.03769268e-01,\n",
       "       1.01784780e-01, 1.39895261e-01, 0.00000000e+00, 0.00000000e+00,\n",
       "       9.75187692e-02, 8.29265680e-02, 4.43407652e-02, 1.06863518e-01,\n",
       "       0.00000000e+00, 2.30233676e-01, 9.63120518e-02, 1.08651325e-01,\n",
       "       1.18257895e-01, 0.00000000e+00, 4.63360649e-02, 1.21195529e-01,\n",
       "       6.36935831e-02, 1.01421064e-01, 3.78652743e-02, 1.15127124e-02,\n",
       "       2.58612000e-02, 7.16932877e-02, 0.00000000e+00, 3.81086663e-02,\n",
       "       7.99071784e-02, 7.92473293e-02, 9.51524604e-02, 9.52906491e-02,\n",
       "       6.23576181e-02, 6.26531404e-01, 9.50940265e-02, 8.52016012e-02,\n",
       "       3.34430673e-02, 1.38042441e-01, 9.05444321e-02, 7.83020172e-02,\n",
       "       1.00720752e-01, 2.36864576e-01, 9.18030802e-02, 4.54875273e-02,\n",
       "       9.27642101e-02, 1.28088961e-01, 9.82433348e-02, 8.65825802e-02,\n",
       "       7.96590089e-02, 4.91640340e-02, 0.00000000e+00, 8.87604675e-02,\n",
       "       4.73030329e-02, 7.66287283e-02, 1.09899768e-01, 8.42506362e-02,\n",
       "       2.74233239e-02, 5.00035391e-03, 4.62372011e-02, 3.88095687e-01,\n",
       "       5.37147620e-02, 1.04148337e-01, 9.52951564e-02, 1.15480966e-01,\n",
       "       1.07839743e-01, 1.02148544e-01, 8.70648904e-02, 1.40201913e-02,\n",
       "       4.76270419e-01, 1.22049603e-01, 9.81258785e-02, 2.37133381e-01,\n",
       "       1.11825875e-01, 0.00000000e+00, 0.00000000e+00, 1.17039430e-01,\n",
       "       1.08374211e-01, 9.08256565e-02, 1.03262354e-01, 1.00359964e-01,\n",
       "       9.93714458e-02, 2.32569512e-02, 1.06040277e-01, 1.16157403e-01,\n",
       "       8.16143477e-02, 1.05024300e-01, 8.76937224e-02, 1.04888062e-01,\n",
       "       0.00000000e+00, 5.47637578e-02, 0.00000000e+00, 1.20546964e-01,\n",
       "       4.81484669e-02, 5.84363825e-02, 9.75557436e-02, 1.24064957e-01,\n",
       "       8.15195874e-02, 5.97185912e-02, 4.13174998e-02, 7.57341227e-02,\n",
       "       1.21702295e-01, 1.07306961e-01, 1.42920275e-01, 1.07284749e-01,\n",
       "       2.17552428e-02, 1.10674604e-01, 4.15681447e-01, 0.00000000e+00,\n",
       "       3.07546397e-02, 1.22121948e-01, 1.03958871e-01, 7.21876929e-02,\n",
       "       6.20208297e-02, 0.00000000e+00, 8.05363335e-02, 8.24983422e-02,\n",
       "       6.14855172e-02, 9.99795963e-02, 0.00000000e+00, 4.94590016e-02,\n",
       "       1.00438884e-01, 1.99096278e-01, 1.01462125e-01, 9.26441774e-02,\n",
       "       1.34185047e-01, 7.58503434e-02, 1.01822405e-01, 4.49472465e-02,\n",
       "       4.92139985e-02, 5.88695975e-02, 4.51638027e-02, 8.49812649e-02,\n",
       "       1.82703559e-02, 0.00000000e+00, 6.69633325e-02, 9.11379066e-02,\n",
       "       9.25887176e-02, 1.34274522e-01, 0.00000000e+00, 1.73420695e-01,\n",
       "       2.91437356e-02, 1.38392747e-02, 7.86418453e-02, 2.12998152e-02,\n",
       "       1.11051181e-01, 7.65218890e-02, 6.52340119e-02, 1.24358827e-01,\n",
       "       2.73725444e-02, 1.19509626e-01, 5.29882627e-02, 1.38433871e-01,\n",
       "       9.73571705e-02, 0.00000000e+00, 5.86384565e-02, 0.00000000e+00,\n",
       "       9.56858441e-02, 3.91463631e-02, 2.77067256e-01, 9.03600639e-02,\n",
       "       6.57890340e-02, 1.01148277e-01, 1.09807965e-01, 9.61717689e-02,\n",
       "       1.77330043e-02, 6.67670161e-02, 6.67687293e-02, 1.32017365e-02,\n",
       "       9.10806088e-02, 7.99583765e-02, 1.32556105e-01, 3.10030816e-02,\n",
       "       4.06778031e-02, 1.13038273e-01, 0.00000000e+00, 2.00535335e-01,\n",
       "       0.00000000e+00, 1.11290370e-01, 1.97653667e-02, 4.35670480e-01,\n",
       "       5.03316136e-02, 1.17871435e-01, 2.29085072e-02, 6.11406398e-02,\n",
       "       1.01033883e-01, 4.33284914e-02, 0.00000000e+00, 9.49335450e-02,\n",
       "       1.08800794e-01, 9.22165250e-02, 9.12511882e-03, 0.00000000e+00,\n",
       "       1.03338739e-01, 6.59920108e-02, 1.97698513e-02, 1.10724171e-01,\n",
       "       7.39945970e-02, 9.02435282e-02, 0.00000000e+00, 9.51790883e-02,\n",
       "       1.00000000e+00, 1.06643978e-01, 8.55544041e-02, 4.28418858e-02,\n",
       "       1.09856957e-01, 7.12920040e-02, 8.46469324e-02, 4.36632707e-02,\n",
       "       9.93821825e-02, 1.47411822e-01, 6.56461727e-02, 1.43127123e-01,\n",
       "       1.21438112e-01, 9.09680508e-02, 1.03530618e-01, 6.30279601e-02,\n",
       "       1.55116421e-01, 1.24983460e-01, 1.01548663e-01, 6.34543971e-02,\n",
       "       7.16860807e-02, 9.29901593e-02, 9.19264347e-02, 4.18019385e-02,\n",
       "       4.88729117e-02, 1.08520745e-01, 4.47325069e-02, 4.67419405e-02,\n",
       "       2.47463522e-02, 1.15777328e-01, 1.06023522e-01, 9.67718675e-02,\n",
       "       8.30437390e-03, 2.05909745e-02, 9.81702978e-02, 7.90206653e-02,\n",
       "       9.86016373e-02, 1.68956502e-01, 2.32466315e-01, 0.00000000e+00,\n",
       "       8.75272110e-02, 1.32511673e-01, 8.21493385e-02, 1.48661142e-01,\n",
       "       3.53240723e-02, 1.45964453e-01, 9.97035598e-02, 3.04895930e-01,\n",
       "       8.65214856e-02, 1.10354305e-01, 2.14097623e-02, 1.62002337e-02,\n",
       "       1.20143095e-01, 1.05316122e-01, 1.53077123e-01, 0.00000000e+00,\n",
       "       1.74993178e-01, 0.00000000e+00, 6.92454966e-02, 2.00842856e-02,\n",
       "       1.24243907e-01, 1.09872566e-01, 0.00000000e+00, 3.71066262e-02,\n",
       "       6.18944410e-02, 1.39346086e-02, 4.46711696e-02, 0.00000000e+00,\n",
       "       1.12318467e-01, 1.11961792e-01, 4.20329994e-02, 1.17848560e-01,\n",
       "       1.35314496e-01, 4.39408192e-02, 7.07537020e-02, 8.31502477e-02,\n",
       "       1.02361186e-01, 8.78225046e-02, 1.12189210e-01, 1.43784223e-01,\n",
       "       1.19029226e-01, 1.66421170e-01, 1.98535705e-01, 5.65508373e-02,\n",
       "       1.17131083e-01, 1.95157624e-02, 0.00000000e+00, 9.78782409e-02,\n",
       "       9.99991413e-02, 9.61262201e-02, 9.11930975e-02, 1.02988088e-01,\n",
       "       1.02220015e-01, 1.24952393e-01, 8.12548691e-02, 0.00000000e+00,\n",
       "       4.61742094e-01, 5.64172433e-02, 1.16537991e-01, 8.29753971e-02,\n",
       "       7.30235174e-02, 9.20311948e-02, 1.20217520e-01, 3.84686240e-02,\n",
       "       2.44115184e-02, 9.10966440e-02, 1.06681710e-01, 1.11360728e-01,\n",
       "       1.10972044e-01, 7.82437227e-03, 1.00948813e-01, 6.93323296e-02,\n",
       "       4.94839787e-02, 1.28836458e-01, 8.63384733e-02, 1.92937760e-01,\n",
       "       7.96274742e-02, 1.42096785e-01, 4.91750103e-02, 5.40916269e-03,\n",
       "       8.44542701e-02, 1.31442508e-02, 4.40553312e-02, 2.86122864e-02,\n",
       "       8.85361907e-02, 1.00000000e+00, 0.00000000e+00, 9.77567924e-02,\n",
       "       2.81178665e-01, 2.91365443e-01, 5.10007253e-02, 6.16515408e-02,\n",
       "       3.97424098e-02, 6.71336121e-02, 5.48592548e-02, 1.19001671e-01,\n",
       "       6.67236727e-02, 1.00663010e-01, 2.47556774e-02, 4.16437536e-02,\n",
       "       5.18140367e-02, 7.97444557e-02, 9.39028729e-02, 1.00175706e-01,\n",
       "       3.20085072e-02, 1.08932351e-01, 8.91028575e-02, 1.00839971e-01,\n",
       "       8.76724600e-02, 1.31519695e-01, 7.68374514e-02, 5.17298862e-02,\n",
       "       1.25289287e-01, 1.59978734e-01, 4.86878639e-02, 2.07205274e-01,\n",
       "       1.03528279e-01, 7.77888650e-02, 9.29050841e-02, 1.17886033e-01,\n",
       "       7.46342143e-02, 1.10868420e-01, 8.01628609e-02, 9.21974682e-02,\n",
       "       0.00000000e+00, 8.55420205e-02, 8.22827082e-02, 3.93999258e-02,\n",
       "       0.00000000e+00, 1.84728087e-02, 6.88249326e-02, 1.27330227e-02,\n",
       "       1.36955858e-02, 7.65049386e-02, 0.00000000e+00, 9.67380999e-02,\n",
       "       4.11998089e-02, 9.58929394e-02, 1.13059510e-01, 8.14161666e-02,\n",
       "       1.01727954e-01, 2.55266090e-01, 0.00000000e+00, 1.22156744e-01,\n",
       "       1.75517779e-01, 5.37941002e-02, 1.14857150e-01, 1.07168748e-01,\n",
       "       1.14523604e-01, 9.78740796e-02, 1.03515032e-01, 1.15498187e-01,\n",
       "       7.45913652e-02, 1.07786546e-01, 2.16686235e-02, 1.02905370e-01,\n",
       "       1.56994988e-02, 7.98658668e-02, 1.59483219e-01, 1.48830727e-01,\n",
       "       6.91223367e-02, 2.49668185e-01, 1.09627334e-01, 1.16620148e-01,\n",
       "       6.68226861e-02, 3.80079213e-01, 9.51833963e-02, 7.81185712e-02,\n",
       "       7.83434841e-02, 1.30028147e-01, 1.52053307e-01, 2.06216243e-02,\n",
       "       0.00000000e+00, 6.15365666e-03, 7.96543139e-03, 9.17137148e-02,\n",
       "       1.03641340e-01, 5.34612631e-02, 1.78955745e-01, 1.00705192e-01,\n",
       "       0.00000000e+00, 2.69837427e-01, 0.00000000e+00, 1.00235438e-01,\n",
       "       7.39708472e-02, 3.28201336e-02, 1.88848846e-02, 1.00000000e+00,\n",
       "       1.72633337e-01, 9.60325616e-02, 9.74560099e-02, 1.13231963e-01,\n",
       "       1.00429555e-01, 7.54851985e-02, 1.02138472e-01, 5.36264418e-02,\n",
       "       1.01515265e-01, 1.15361984e-01, 9.13597864e-02, 9.14107302e-02,\n",
       "       2.28609929e-01, 3.82502199e-01, 1.09584099e-01, 1.05902199e-01,\n",
       "       1.11354624e-01, 0.00000000e+00, 8.74419016e-02, 1.47947055e-01,\n",
       "       1.01518860e-01, 1.17831620e-01, 6.37414212e-02, 0.00000000e+00,\n",
       "       3.75947271e-02, 1.60305959e-01, 4.20157145e-02, 1.64724597e-02,\n",
       "       1.14956572e-01, 2.00452817e-01, 8.22307285e-02, 1.13481466e-01,\n",
       "       1.05756030e-01, 1.05734600e-01, 1.40524813e-01, 9.37621996e-02,\n",
       "       8.37626317e-02, 2.99798838e-02, 1.75100634e-02, 9.50694065e-02,\n",
       "       4.02900610e-02, 5.49490834e-02, 1.65025904e-01, 2.57114006e-02,\n",
       "       9.78974201e-02, 9.97041631e-02, 1.00414889e-01, 1.07391111e-01,\n",
       "       8.50167184e-02, 4.40054808e-02, 1.42420549e-01, 2.19737480e-02,\n",
       "       2.28616093e-02, 0.00000000e+00, 4.19458397e-01, 8.28620649e-02,\n",
       "       0.00000000e+00, 5.50840985e-02, 5.52822103e-02, 4.83921048e-02,\n",
       "       8.13042411e-02, 1.53214451e-01, 6.32494762e-01, 6.85423663e-02,\n",
       "       9.42676883e-02, 8.69769769e-02, 9.80912294e-02, 5.07763420e-02,\n",
       "       8.19861501e-02, 7.72282200e-02, 5.74693054e-02, 0.00000000e+00,\n",
       "       3.18600219e-02, 1.15731037e-01, 6.77451890e-02, 1.76674844e-02,\n",
       "       0.00000000e+00, 7.72677358e-02, 9.48378748e-02, 0.00000000e+00,\n",
       "       4.03465692e-02, 3.22047970e-02, 1.93363909e-02, 1.00000000e+00,\n",
       "       1.12014347e-01, 8.92949825e-01, 7.09890043e-02, 0.00000000e+00,\n",
       "       7.76857505e-02, 6.89654147e-02, 1.04361829e-01, 0.00000000e+00,\n",
       "       1.13420489e-01, 1.02829857e-01, 1.02189675e-01, 9.09100308e-02,\n",
       "       6.63948578e-02, 9.25349223e-02, 1.28395605e-01, 7.87451123e-02,\n",
       "       1.80512185e-01, 1.01017301e-01, 9.81005828e-02, 0.00000000e+00,\n",
       "       4.51536530e-02, 1.01794338e-01, 9.52716805e-02, 1.17054562e-01,\n",
       "       2.17106801e-01, 7.63809304e-02, 9.66219891e-02, 1.06475807e-01,\n",
       "       9.73103667e-02, 0.00000000e+00, 2.32176309e-01, 2.02895120e-01,\n",
       "       1.01419984e-01, 3.40654006e-02, 8.62373226e-02, 5.95560370e-02,\n",
       "       1.34950784e-01, 1.27660462e-01, 7.11280124e-02, 0.00000000e+00,\n",
       "       9.76187234e-02, 0.00000000e+00, 2.29615456e-02, 4.27546803e-02,\n",
       "       4.52673219e-02, 1.06780642e-01, 2.43588765e-01, 9.58878422e-02,\n",
       "       1.12328074e-01, 3.75912104e-01, 5.20891461e-02, 3.73275623e-02,\n",
       "       3.19599597e-02, 1.02660675e-01, 1.03751012e-01, 9.60257065e-02,\n",
       "       0.00000000e+00, 1.12278489e-01, 7.03090550e-02, 1.16465222e-01,\n",
       "       5.21485986e-02, 1.11593898e-01, 1.12854747e-01, 9.22780555e-02,\n",
       "       8.59948604e-02, 4.01397505e-02, 9.98305819e-02, 8.26177622e-02,\n",
       "       2.77558065e-03, 1.06520190e-01, 6.83232360e-02, 9.09127311e-02,\n",
       "       8.54372972e-02, 0.00000000e+00, 5.67126616e-02, 8.27369982e-02,\n",
       "       1.89104942e-02, 1.26669120e-01, 5.86314562e-03, 1.01098184e-01,\n",
       "       3.87749466e-02, 0.00000000e+00, 0.00000000e+00, 9.45220366e-02,\n",
       "       1.76120022e-02, 3.12024908e-02, 0.00000000e+00, 1.32990262e-01,\n",
       "       2.50820155e-01, 1.23100810e-01, 2.39354067e-02, 5.33205739e-02,\n",
       "       7.99422439e-02, 4.98733174e-02, 0.00000000e+00, 1.23951975e-01,\n",
       "       0.00000000e+00, 2.05454500e-02, 8.57192654e-02, 2.19781583e-02,\n",
       "       6.31723086e-02, 1.10784372e-01, 6.09411397e-01, 1.15737998e-01,\n",
       "       6.02636021e-02, 2.45991092e-02, 2.14511361e-01, 1.22138068e-01,\n",
       "       7.47368684e-02, 4.69802963e-02, 1.19691990e-01, 0.00000000e+00,\n",
       "       8.42670961e-03, 0.00000000e+00, 4.51428197e-02, 1.08690366e-01,\n",
       "       8.37214535e-02, 1.01518669e-01, 0.00000000e+00, 5.47073998e-02,\n",
       "       1.07813985e-01, 6.25461075e-02, 5.17610357e-02, 9.93777278e-02,\n",
       "       6.38712513e-02, 7.03039026e-02, 0.00000000e+00, 1.92171177e-01,\n",
       "       1.46070049e-02, 8.90325301e-02, 3.72634474e-01, 9.51081187e-02,\n",
       "       9.77958963e-02, 1.10242383e-01, 1.47380239e-02, 6.21137216e-02,\n",
       "       1.25538452e-01, 0.00000000e+00, 2.57097351e-02, 2.05858998e-02,\n",
       "       2.19245634e-02, 1.07668232e-01, 0.00000000e+00, 8.11045897e-02,\n",
       "       9.85928350e-02, 5.48447480e-02, 1.42713973e-01, 2.10645003e-02,\n",
       "       1.14679503e-01, 7.41352063e-02, 9.45862713e-02, 5.35609783e-02,\n",
       "       0.00000000e+00, 8.45074158e-02, 1.51564993e-01, 1.01756027e-01,\n",
       "       1.25534557e-01, 1.63664510e-01, 9.70275671e-02, 1.02590282e-01,\n",
       "       6.74662172e-02, 8.02223241e-02, 6.70959928e-02, 1.05683597e-01,\n",
       "       8.41918173e-02, 8.84223772e-02, 1.74651280e-02, 1.00131754e-01,\n",
       "       6.14885520e-02, 9.53061877e-02, 0.00000000e+00, 1.03505108e-01,\n",
       "       1.65408890e-02, 0.00000000e+00, 1.08295337e-01, 0.00000000e+00,\n",
       "       4.88733845e-02, 1.10718531e-01, 0.00000000e+00, 8.92453811e-02,\n",
       "       0.00000000e+00, 6.91872319e-02, 2.11291577e-01, 1.13155268e-01,\n",
       "       9.39355916e-02, 9.93250600e-02, 5.56141528e-02, 1.72946044e-01,\n",
       "       1.00625749e-01, 1.04334020e-01, 8.81450351e-02, 0.00000000e+00,\n",
       "       1.10218272e-01, 2.11222985e-02, 7.07722789e-02, 5.21677979e-02,\n",
       "       1.05475859e-01, 1.37096516e-01, 1.00778849e-01, 6.53201929e-02,\n",
       "       9.61934296e-02, 1.12691546e-01, 2.87202578e-02, 3.94086310e-02,\n",
       "       3.04495831e-01, 1.15569347e-01, 1.01844140e-01, 1.29029213e-01,\n",
       "       8.56799013e-02, 9.44880926e-02, 1.02229501e-01, 1.04075678e-01,\n",
       "       7.94308794e-02, 1.28188105e-01, 1.40816030e-01, 1.34233628e-02,\n",
       "       6.84797750e-02, 9.02183142e-02, 2.74395459e-02, 1.38255956e-01,\n",
       "       9.35842702e-02, 1.05512026e-01, 1.13049535e-01, 1.14387750e-01,\n",
       "       0.00000000e+00, 5.84870708e-02, 3.18811310e-01, 8.84649424e-02,\n",
       "       1.17618783e-01, 4.36728178e-01, 1.15891114e-01, 1.34138866e-01,\n",
       "       1.12336238e-01, 2.78111582e-01, 0.00000000e+00, 1.01049533e-01,\n",
       "       1.02203556e-01, 6.25462694e-02, 0.00000000e+00, 0.00000000e+00,\n",
       "       1.38855938e-01, 0.00000000e+00, 9.75654705e-02, 6.06515337e-02,\n",
       "       1.50578331e-01, 0.00000000e+00, 3.10182757e-02, 6.29864634e-02,\n",
       "       8.42683311e-02, 1.48162466e-01, 1.59523859e-01, 1.00472043e-01,\n",
       "       6.10584245e-02, 7.68421364e-02, 5.47055330e-02, 1.09906602e-01,\n",
       "       8.10074608e-02, 1.10081106e-01, 1.05689861e-01, 4.83118101e-02,\n",
       "       7.27859385e-02, 6.03015297e-02, 1.31411212e-01, 1.24656062e-01,\n",
       "       1.39138400e-01, 7.90400174e-02, 1.14658391e-01, 4.65128488e-02,\n",
       "       1.87772027e-02, 8.74565353e-02, 1.02882015e-01, 1.60473804e-02,\n",
       "       8.26510609e-02, 0.00000000e+00, 1.00245733e-01, 6.03539920e-02,\n",
       "       8.15143118e-02, 8.01903007e-03, 6.09477240e-03, 1.47775645e-01,\n",
       "       1.98404477e-02, 4.20725686e-02, 5.43560689e-02, 7.37765850e-02,\n",
       "       9.91076718e-02, 1.15089035e-01, 1.07192920e-01, 1.99357038e-01,\n",
       "       1.00903530e-01, 7.13593907e-02, 8.73322590e-02, 5.07224080e-02,\n",
       "       1.06465622e-01, 1.04190598e-01, 7.32290301e-02, 9.57270063e-02,\n",
       "       1.01150144e-01, 9.83496182e-02, 9.16610638e-02, 2.69425355e-02])"
      ]
     },
     "execution_count": 49,
     "metadata": {},
     "output_type": "execute_result"
    }
   ],
   "source": [
    "marg2[:,0]"
   ]
  },
  {
   "cell_type": "markdown",
   "metadata": {},
   "source": [
    "# Print the marginals"
   ]
  },
  {
   "cell_type": "code",
   "execution_count": 32,
   "metadata": {},
   "outputs": [],
   "source": [
    "#marginal at time 0\n",
    "t1=0\n",
    "M = np.zeros((T,N))\n",
    "M_max = np.zeros((T,N))\n",
    "\n",
    "for n in f.nodes:\n",
    "    for t in range(T):\n",
    "        M[t, n.index] = sib.marginal_t(n, t)[1]\n",
    "        M_max[t, n.index] = max(sib.marginal_t(n, t)[0], sib.marginal_t(n, t)[1])\n",
    "M_star = np.array(M > 0.5, dtype=float)"
   ]
  },
  {
   "cell_type": "code",
   "execution_count": 33,
   "metadata": {},
   "outputs": [],
   "source": [
    "ov_i = (n_status[sim] == M_star).sum()\n",
    "ov_tilde_i = M_max.sum()"
   ]
  },
  {
   "cell_type": "code",
   "execution_count": 34,
   "metadata": {},
   "outputs": [
    {
     "data": {
      "text/plain": [
       "(17153, 17412.469847553213)"
      ]
     },
     "execution_count": 34,
     "metadata": {},
     "output_type": "execute_result"
    }
   ],
   "source": [
    "ov_i, ov_tilde_i"
   ]
  },
  {
   "cell_type": "code",
   "execution_count": 36,
   "metadata": {},
   "outputs": [
    {
     "data": {
      "text/plain": [
       "array([ 11.23145843,  14.7380238 ,  18.91428574,  23.88223583,\n",
       "        29.78399116,  36.78417532,  45.07215715,  54.86390775,\n",
       "        66.40313059,  79.96118617,  95.83517506, 114.34337113,\n",
       "       135.81703359, 160.58751514, 188.96759422, 221.22618968,\n",
       "       257.55619232, 298.0361941 , 342.58849265, 390.93784262])"
      ]
     },
     "execution_count": 36,
     "metadata": {},
     "output_type": "execute_result"
    }
   ],
   "source": [
    "M.sum(axis=1)"
   ]
  },
  {
   "cell_type": "code",
   "execution_count": null,
   "metadata": {},
   "outputs": [],
   "source": []
  },
  {
   "cell_type": "code",
   "execution_count": 502,
   "metadata": {},
   "outputs": [],
   "source": [
    "ps = percentage_infected"
   ]
  },
  {
   "cell_type": "code",
   "execution_count": 514,
   "metadata": {},
   "outputs": [],
   "source": [
    "def eta(t0):\n",
    "    if t0 == 0:\n",
    "        return 1 \n",
    "    else:\n",
    "        S = np.array([(1-lamb)**(t0-1-i)*eta(i) for i in range(1,t0) ])\n",
    "        return ( ps*(1-lamb)**t0 + (1-ps)*((1-lamb)**(t0-1) + lamb*sum(S)) )**(d-1)"
   ]
  },
  {
   "cell_type": "code",
   "execution_count": 517,
   "metadata": {},
   "outputs": [
    {
     "data": {
      "text/plain": [
       "0.9732422709999999"
      ]
     },
     "execution_count": 517,
     "metadata": {},
     "output_type": "execute_result"
    }
   ],
   "source": [
    "eta1"
   ]
  },
  {
   "cell_type": "code",
   "execution_count": 523,
   "metadata": {},
   "outputs": [
    {
     "data": {
      "text/plain": [
       "1.7714835737129969e-06"
      ]
     },
     "execution_count": 523,
     "metadata": {},
     "output_type": "execute_result"
    }
   ],
   "source": [
    "eta(20)"
   ]
  },
  {
   "cell_type": "markdown",
   "metadata": {},
   "source": [
    "# Analytic solution RRG"
   ]
  },
  {
   "cell_type": "code",
   "execution_count": null,
   "metadata": {},
   "outputs": [],
   "source": [
    "def eta(t0):\n",
    "    if t0 == 0:\n",
    "        return 1 \n",
    "    else:\n",
    "        S = np.array([(1-lamb)**(t0-1-i)*eta(i) for i in range(1,t0) ])\n",
    "        return ( ps*(1-lamb)**t0 + (1-ps)*((1-lamb)**(t0-1) + lamb*sum(S)) )**(d-1)"
   ]
  },
  {
   "cell_type": "code",
   "execution_count": 528,
   "metadata": {},
   "outputs": [],
   "source": [
    "eta_tab = np.array([eta(t0) for t0 in range(T+1)])"
   ]
  },
  {
   "cell_type": "code",
   "execution_count": 531,
   "metadata": {},
   "outputs": [
    {
     "data": {
      "text/plain": [
       "0"
      ]
     },
     "execution_count": 531,
     "metadata": {},
     "output_type": "execute_result"
    }
   ],
   "source": [
    "1*(2>3)"
   ]
  },
  {
   "cell_type": "code",
   "execution_count": 524,
   "metadata": {},
   "outputs": [],
   "source": [
    "m = np.full((T+2,T+2), ps/(T+2) )\n",
    "for ti in range(T):\n",
    "    for tj in range(-1,T+1):\n",
    "        m[ti+1,tj+1] = ( (1-ps)/(T+2))*( ((1-lamb)**(ti-1-tj)*(ti-1>tj) + 1*(tj+2>ti))*eta_tab[ti] - ((1-lamb)**(ti-tj)*(ti>tj) + 1*(tj+1>ti))*eta_tab[ti+1] )"
   ]
  },
  {
   "cell_type": "code",
   "execution_count": 540,
   "metadata": {},
   "outputs": [],
   "source": [
    "for tj in range(-1,T+1):\n",
    "    m[-1,tj+1] = ( (1-ps)/(T+2))*((1-lamb)**(T-1-tj)*(T-1>tj) + 1*(tj+2>T))*eta_tab[T] "
   ]
  },
  {
   "cell_type": "code",
   "execution_count": 544,
   "metadata": {},
   "outputs": [
    {
     "data": {
      "text/plain": [
       "-1.6348794673192064e-17"
      ]
     },
     "execution_count": 544,
     "metadata": {},
     "output_type": "execute_result"
    }
   ],
   "source": [
    "np.sum(m-f.messages.values[0])"
   ]
  },
  {
   "cell_type": "code",
   "execution_count": 527,
   "metadata": {},
   "outputs": [
    {
     "data": {
      "text/plain": [
       "15"
      ]
     },
     "execution_count": 527,
     "metadata": {},
     "output_type": "execute_result"
    }
   ],
   "source": [
    "len(range(-1,T+1))"
   ]
  },
  {
   "cell_type": "code",
   "execution_count": null,
   "metadata": {},
   "outputs": [],
   "source": []
  }
 ],
 "metadata": {
  "interpreter": {
   "hash": "582665e005205e644d403bc592ba93d87a6a83a74c3df9237a83d39250e0e3aa"
  },
  "kernelspec": {
   "display_name": "Python 3.8.13 ('Epi38')",
   "language": "python",
   "name": "python3"
  },
  "language_info": {
   "codemirror_mode": {
    "name": "ipython",
    "version": 3
   },
   "file_extension": ".py",
   "mimetype": "text/x-python",
   "name": "python",
   "nbconvert_exporter": "python",
   "pygments_lexer": "ipython3",
   "version": "3.8.13"
  }
 },
 "nbformat": 4,
 "nbformat_minor": 4
}
