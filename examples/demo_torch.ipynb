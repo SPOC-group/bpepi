{
 "cells": [
  {
   "cell_type": "code",
   "execution_count": 7,
   "metadata": {},
   "outputs": [],
   "source": [
    "import os\n",
    "import sys\n",
    "\n",
    "sys.path.insert(0, os.path.abspath(os.path.join(os.path.dirname(\"../bpepi/bpepi\"))))\n",
    "sys.path.insert(0, os.path.abspath(os.path.join(os.path.dirname(\"../bpepi\"))))\n",
    "\n",
    "import bpepi\n",
    "import matplotlib.pyplot as plt\n",
    "import seaborn as sns\n",
    "import pandas as pd\n",
    "import torch\n"
   ]
  },
  {
   "cell_type": "code",
   "execution_count": 8,
   "metadata": {},
   "outputs": [],
   "source": [
    "import networkx as nx\n",
    "import numpy as np"
   ]
  },
  {
   "cell_type": "code",
   "execution_count": 9,
   "metadata": {},
   "outputs": [],
   "source": [
    "import sys\n",
    "sys.path.insert(0,'../Analysis')\n",
    "sys.path.insert(0,'../bpepi')"
   ]
  },
  {
   "cell_type": "code",
   "execution_count": 10,
   "metadata": {},
   "outputs": [],
   "source": [
    "from gen import simulate_one_detSIR\n",
    "from bpepi.Modules import fg_torch as fg"
   ]
  },
  {
   "cell_type": "code",
   "execution_count": 11,
   "metadata": {},
   "outputs": [],
   "source": [
    "torch.set_num_threads(2)"
   ]
  },
  {
   "cell_type": "markdown",
   "metadata": {},
   "source": [
    "## Random Regular Graph"
   ]
  },
  {
   "cell_type": "code",
   "execution_count": 12,
   "metadata": {},
   "outputs": [],
   "source": [
    "N=2000\n",
    "d=3\n",
    "lam=0.8\n",
    "delta=0.01\n",
    "rho=0.01\n",
    "G=nx.random_regular_graph(d,N)\n",
    "for (u,v) in G.edges():\n",
    "    G.edges[u,v]['lambda'] = lam\n",
    "if (N<500) : nx.draw(G)"
   ]
  },
  {
   "cell_type": "code",
   "execution_count": 13,
   "metadata": {},
   "outputs": [],
   "source": [
    "snn = np.array(simulate_one_detSIR(G, s_type = \"delta\", S = delta, mask = [\"SI\"], T_max=100))"
   ]
  },
  {
   "cell_type": "code",
   "execution_count": 14,
   "metadata": {},
   "outputs": [],
   "source": [
    "T = len(snn) - 1"
   ]
  },
  {
   "cell_type": "code",
   "execution_count": 15,
   "metadata": {},
   "outputs": [],
   "source": [
    "from gen import generate_contacts\n",
    "contacts = generate_contacts(G,T,lam)"
   ]
  },
  {
   "cell_type": "markdown",
   "metadata": {},
   "source": [
    "#### Observations"
   ]
  },
  {
   "cell_type": "code",
   "execution_count": 16,
   "metadata": {},
   "outputs": [],
   "source": [
    "from gen import generate_sensors_obs\n",
    "num_obs = int(rho*N)\n",
    "obs = generate_sensors_obs(snn, o_type=\"n_obs\", M=num_obs)"
   ]
  },
  {
   "cell_type": "code",
   "execution_count": 17,
   "metadata": {},
   "outputs": [],
   "source": [
    "tol=1e-4\n",
    "damp=0."
   ]
  },
  {
   "cell_type": "code",
   "execution_count": 27,
   "metadata": {},
   "outputs": [],
   "source": [
    "def print_iter(err, it):\n",
    "    print(f\"\\r err:{err[0]:.2}, err:{err[1]:.2}, it:{it}\", end=\"\")"
   ]
  },
  {
   "cell_type": "code",
   "execution_count": 28,
   "metadata": {},
   "outputs": [],
   "source": [
    "import torch\n",
    "contacts_t = torch.tensor(contacts)"
   ]
  },
  {
   "cell_type": "code",
   "execution_count": 50,
   "metadata": {},
   "outputs": [],
   "source": [
    "from bpepi.Modules import st_torch as st_p\n",
    "from bpepi.Modules import st as st\n",
    "import importlib\n",
    "importlib.reload(st_p)\n",
    "importlib.reload(st)\n",
    "\n",
    "from bpepi.Modules import fg_torch as fg_p\n",
    "from bpepi.Modules import fg as fg\n",
    "import importlib\n",
    "importlib.reload(fg)\n",
    "importlib.reload(fg_p)\n",
    "\n",
    "dtype=torch.float32\n",
    "device=\"cpu\"\n",
    "fg_p_ = fg_p.FactorGraph(N,T,contacts,obs,delta=delta, dtype=dtype, device=device)\n",
    "fg_ = fg.FactorGraph(N,T,contacts,obs,delta=delta)"
   ]
  },
  {
   "cell_type": "code",
   "execution_count": 41,
   "metadata": {},
   "outputs": [
    {
     "name": "stdout",
     "output_type": "stream",
     "text": [
      "21.4 ms ± 731 µs per loop (mean ± std. dev. of 7 runs, 10 loops each)\n"
     ]
    }
   ],
   "source": [
    "%timeit fg_.iterate(damp=damp)"
   ]
  },
  {
   "cell_type": "code",
   "execution_count": 42,
   "metadata": {},
   "outputs": [
    {
     "name": "stdout",
     "output_type": "stream",
     "text": [
      "11.6 ms ± 294 µs per loop (mean ± std. dev. of 7 runs, 100 loops each)\n"
     ]
    }
   ],
   "source": [
    "%timeit fg_p_.iterate(damp=damp)"
   ]
  },
  {
   "cell_type": "code",
   "execution_count": 47,
   "metadata": {},
   "outputs": [],
   "source": [
    "fg_p_ = fg_p.FactorGraph(N,T,contacts,obs,delta=delta, dtype=dtype, device=device)\n",
    "fg_ = fg.FactorGraph(N,T,contacts,obs,delta=delta)"
   ]
  },
  {
   "cell_type": "code",
   "execution_count": 48,
   "metadata": {},
   "outputs": [
    {
     "name": "stdout",
     "output_type": "stream",
     "text": [
      " err:0.027, err:8.7e-05, it:19"
     ]
    },
    {
     "data": {
      "text/plain": [
       "(19, [0.027422351270527223, 8.690153412090338e-05])"
      ]
     },
     "execution_count": 48,
     "metadata": {},
     "output_type": "execute_result"
    }
   ],
   "source": [
    "fg_.update(tol=tol, print_iter=print_iter, damp=damp, maxit=1000)"
   ]
  },
  {
   "cell_type": "code",
   "execution_count": 51,
   "metadata": {},
   "outputs": [
    {
     "name": "stdout",
     "output_type": "stream",
     "text": [
      " err:0.027, err:8.7e-05, it:19"
     ]
    },
    {
     "data": {
      "text/plain": [
       "(19, [tensor(0.0274), tensor(8.6900e-05)])"
      ]
     },
     "execution_count": 51,
     "metadata": {},
     "output_type": "execute_result"
    }
   ],
   "source": [
    "fg_p_.update(tol=tol, print_iter=print_iter, damp=damp, maxit=1000)"
   ]
  },
  {
   "cell_type": "code",
   "execution_count": null,
   "metadata": {},
   "outputs": [
    {
     "data": {
      "text/plain": [
       "2.1923592325971343e-08"
      ]
     },
     "execution_count": 35,
     "metadata": {},
     "output_type": "execute_result"
    }
   ],
   "source": [
    "(np.abs(fg_p_.messages.values.numpy() - fg_.messages.values)).mean()"
   ]
  },
  {
   "cell_type": "code",
   "execution_count": null,
   "metadata": {},
   "outputs": [],
   "source": [
    "marg = fg_.marginals()\n",
    "marg_p = fg_p_.marginals().numpy()"
   ]
  },
  {
   "cell_type": "code",
   "execution_count": null,
   "metadata": {},
   "outputs": [
    {
     "data": {
      "text/plain": [
       "2.334497065292663e-07"
      ]
     },
     "execution_count": 37,
     "metadata": {},
     "output_type": "execute_result"
    }
   ],
   "source": [
    "(np.abs(marg - marg_p)).mean()"
   ]
  },
  {
   "cell_type": "code",
   "execution_count": null,
   "metadata": {},
   "outputs": [],
   "source": []
  },
  {
   "cell_type": "code",
   "execution_count": null,
   "metadata": {},
   "outputs": [],
   "source": []
  },
  {
   "cell_type": "code",
   "execution_count": null,
   "metadata": {},
   "outputs": [],
   "source": []
  }
 ],
 "metadata": {
  "kernelspec": {
   "display_name": "Python 3.10.4 ('m1torch')",
   "language": "python",
   "name": "python3"
  },
  "language_info": {
   "codemirror_mode": {
    "name": "ipython",
    "version": 3
   },
   "file_extension": ".py",
   "mimetype": "text/x-python",
   "name": "python",
   "nbconvert_exporter": "python",
   "pygments_lexer": "ipython3",
   "version": "3.10.4"
  },
  "vscode": {
   "interpreter": {
    "hash": "326aece9e3cab3d8b5f16927ec91c2f58b6095a6fadb5a2b0f79b2b30731c315"
   }
  }
 },
 "nbformat": 4,
 "nbformat_minor": 2
}
